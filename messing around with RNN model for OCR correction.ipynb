{
 "metadata": {
  "name": "messing around with RNN model for OCR correction"
 },
 "nbformat": 3,
 "nbformat_minor": 0,
 "worksheets": [
  {
   "cells": [
    {
     "cell_type": "code",
     "collapsed": false,
     "input": "#https://gist.github.com/karpathy/d4dee566867f8291f086\n\n\ndata =\"\"\"Ma vie, \u00e0 partir de cette \u00e9poque, fut celle de tous les marins. J'aimais le m\u00e9tier que j'avais choisi et, \u00e0 l'\u00e2ge de 21 dans, je servais en qualit\u00e9 de lieutenant sous les ordres de Philippe qui, plus \u00e2g\u00e9 que moi, \u00e9tait devenu le capitaine de L\u2019Esp\u00e9rance. Nous avions conserv\u00e9 l'un pour l'autre notre amiti\u00e9 d'enfance que, pendant tout ce temps, un seul nuage \u00e9tait venu troubler : je m'\u00e9tais fait recevoir franc-ma\u00e7on en Angleterre, et lorsque, longtemps apr\u00e8s, je l\u2019appris \u00e0 Philippe, il entra dans une col\u00e8re tellement violente que je crus de ma dignit\u00e9 de quitter son bord. Mais au bout de quelques jours mon ami vint me chercher, et nous e\u00fbmes bien vite oubli\u00e9 ce l\u00e9ger diff\u00e9rend.\"\"\"\n\n\"\"\"\nMinimal character-level Vanilla RNN model. Written by Andrej Karpathy (@karpathy)\nBSD License\n\"\"\"\nimport numpy as np\n\n# data I/O\n#data = open('input.txt', 'r').read() # should be simple plain text file\nchars = list(set(data))\ndata_size, vocab_size = len(data), len(chars)\nprint 'data has %d characters, %d unique.' % (data_size, vocab_size)\nchar_to_ix = { ch:i for i,ch in enumerate(chars) }\nix_to_char = { i:ch for i,ch in enumerate(chars) }\n\n# hyperparameters\nhidden_size = 100 # size of hidden layer of neurons\nseq_length = 25 # number of steps to unroll the RNN for\nlearning_rate = 1e-1\n\n# model parameters\nWxh = np.random.randn(hidden_size, vocab_size)*0.01 # input to hidden\nWhh = np.random.randn(hidden_size, hidden_size)*0.01 # hidden to hidden\nWhy = np.random.randn(vocab_size, hidden_size)*0.01 # hidden to output\nbh = np.zeros((hidden_size, 1)) # hidden bias\nby = np.zeros((vocab_size, 1)) # output bias\n\ndef lossFun(inputs, targets, hprev):\n  \"\"\"\n  inputs,targets are both list of integers.\n  hprev is Hx1 array of initial hidden state\n  returns the loss, gradients on model parameters, and last hidden state\n  \"\"\"\n  xs, hs, ys, ps = {}, {}, {}, {}\n  hs[-1] = np.copy(hprev)\n  loss = 0\n  # forward pass\n  for t in xrange(len(inputs)):\n    xs[t] = np.zeros((vocab_size,1)) # encode in 1-of-k representation\n    xs[t][inputs[t]] = 1\n    hs[t] = np.tanh(np.dot(Wxh, xs[t]) + np.dot(Whh, hs[t-1]) + bh) # hidden state\n    ys[t] = np.dot(Why, hs[t]) + by # unnormalized log probabilities for next chars\n    ps[t] = np.exp(ys[t]) / np.sum(np.exp(ys[t])) # probabilities for next chars\n    loss += -np.log(ps[t][targets[t],0]) # softmax (cross-entropy loss)\n  # backward pass: compute gradients going backwards\n  dWxh, dWhh, dWhy = np.zeros_like(Wxh), np.zeros_like(Whh), np.zeros_like(Why)\n  dbh, dby = np.zeros_like(bh), np.zeros_like(by)\n  dhnext = np.zeros_like(hs[0])\n  for t in reversed(xrange(len(inputs))):\n    dy = np.copy(ps[t])\n    dy[targets[t]] -= 1 # backprop into y\n    dWhy += np.dot(dy, hs[t].T)\n    dby += dy\n    dh = np.dot(Why.T, dy) + dhnext # backprop into h\n    dhraw = (1 - hs[t] * hs[t]) * dh # backprop through tanh nonlinearity\n    dbh += dhraw\n    dWxh += np.dot(dhraw, xs[t].T)\n    dWhh += np.dot(dhraw, hs[t-1].T)\n    dhnext = np.dot(Whh.T, dhraw)\n  for dparam in [dWxh, dWhh, dWhy, dbh, dby]:\n    np.clip(dparam, -5, 5, out=dparam) # clip to mitigate exploding gradients\n  return loss, dWxh, dWhh, dWhy, dbh, dby, hs[len(inputs)-1]\n\ndef sample(h, seed_ix, n):\n  \"\"\" \n  sample a sequence of integers from the model \n  h is memory state, seed_ix is seed letter for first time step\n  \"\"\"\n  x = np.zeros((vocab_size, 1))\n  x[seed_ix] = 1\n  ixes = []\n  for t in xrange(n):\n    h = np.tanh(np.dot(Wxh, x) + np.dot(Whh, h) + bh)\n    y = np.dot(Why, h) + by\n    p = np.exp(y) / np.sum(np.exp(y))\n    ix = np.random.choice(range(vocab_size), p=p.ravel())\n    x = np.zeros((vocab_size, 1))\n    x[ix] = 1\n    ixes.append(ix)\n  return ixes\n\nn, p = 0, 0\nmWxh, mWhh, mWhy = np.zeros_like(Wxh), np.zeros_like(Whh), np.zeros_like(Why)\nmbh, mby = np.zeros_like(bh), np.zeros_like(by) # memory variables for Adagrad\nsmooth_loss = -np.log(1.0/vocab_size)*seq_length # loss at iteration 0\nwhile True:\n  # prepare inputs (we're sweeping from left to right in steps seq_length long)\n  if p+seq_length+1 >= len(data) or n == 0: \n    hprev = np.zeros((hidden_size,1)) # reset RNN memory\n    p = 0 # go from start of data\n  inputs = [char_to_ix[ch] for ch in data[p:p+seq_length]]\n  targets = [char_to_ix[ch] for ch in data[p+1:p+seq_length+1]]\n\n  # sample from the model now and then\n  if n % 100 == 0:\n    sample_ix = sample(hprev, inputs[0], 200)\n    txt = ''.join(ix_to_char[ix] for ix in sample_ix)\n    print '----\\n %s \\n----' % (txt, )\n\n  # forward seq_length characters through the net and fetch gradient\n  loss, dWxh, dWhh, dWhy, dbh, dby, hprev = lossFun(inputs, targets, hprev)\n  smooth_loss = smooth_loss * 0.999 + loss * 0.001\n  if n % 100 == 0: print 'iter %d, loss: %f' % (n, smooth_loss) # print progress\n  \n  # perform parameter update with Adagrad\n  for param, dparam, mem in zip([Wxh, Whh, Why, bh, by], \n                                [dWxh, dWhh, dWhy, dbh, dby], \n                                [mWxh, mWhh, mWhy, mbh, mby]):\n    mem += dparam * dparam\n    param += -learning_rate * dparam / np.sqrt(mem + 1e-8) # adagrad update\n\n  p += seq_length # move data pointer\n  n += 1 # iteration counter ",
     "language": "python",
     "metadata": {},
     "outputs": [
      {
       "output_type": "stream",
       "stream": "stdout",
       "text": "data has 711 characters, 46 unique.\n----\n e\ufffdgrmMbrcav\ufffdeE1'\ufffd.fudPajeP\ufffdciJA\ufffd\ufffd-e\ufffdEe:L.rs\ufffdEpM:A\ufffdPa-hPdv\ufffdn:MLuihJ\ufffdaj\ufffdL'L\ufffdLbpfp11qLmcej\ufffdglPJr.vnee-vAh'm, ic.1\ufffdeq  jfnEg\ufffdJh12ve\ufffdeE-htbmsi'v\ufffdlfLn\ufffdu.peLNs\ufffd\ufffdEeo1\ufffdvf\ufffd1JuAf:t\ufffdsLt rr'pnM\ufffd\ufffdv:b,\ufffdt\ufffd:A\ufffdp\ufffddvmr: \n----\niter 0, loss: 95.716036\n----\n ssae'o r   : e t \ufffdlvee \ufffdi \ufffd j mu   o\ufffda \ufffdel'st aeeenntqe \ufffd,'  q urt .se .oa\ufffdg\ufffdl liml.eat \ufffdu'ajt \ufffd u, g\ufffdce ascrege jetuat ag\ufffdt q'fLotrettuen    \ufffd eenlu tde r: lepedetve\ufffd\ufffdgee.oeet lo\ufffdmnaem,aeiern\ufffdeveevvr \n----"
      },
      {
       "output_type": "stream",
       "stream": "stdout",
       "text": "\niter 100, loss: 96.303613\n----\n  c stb  i\ufffd qjo s  iEa cc  i vf  s erlae t  \ufffd  ve iuajq chi tnecueao\ufffd ua vi\ufffdme uJa tr jsont eo altumrec o ts dr t\ufffd, c\ufffdlavssal.l t  euf v rmlotel e ie.  aosvlcofu iudioss \ufffd\ufffd a  s lh saoio u1  Joaroi\ufffdlue \n----"
      },
      {
       "output_type": "stream",
       "stream": "stdout",
       "text": "\niter 200, loss: 94.856969\n----\n rsari,alsag\ufffdvPs ij',,lh\ufffdgp lr\ufffdjgPn niplleu\ufffdppe\ufffdpfl\u00e9t \ufffdi oal\ufffdnehes nea\ufffdo\ufffdn\ufffd'smenfpbl\u00e9 ssrj\ufffdp eae\ufffd,llnel\u00c0vpeforhsiestrdipol\ufffdtovnraav \ufffd-g\u00e0 a\ufffdpe a,al1rep\ufffd  Pis m \ufffd\ufffdr fus q\ufffd\ufffdpilrhe\ufffdn\ufffdf t\ufffdf ls pr ce je \n----"
      },
      {
       "output_type": "stream",
       "stream": "stdout",
       "text": "\niter 300, loss: 92.771338\n----\n de ge\u00e9 iqrturoaitole nerr,,pmetondent \u00e9iii done. lse iapdu'\u00e9 qlai\ufffd\u00e9s d leuddrrsdlee qoi\ufffds dhe\ufffdv\ufffdvane \ufffdipnte ptoi\ufffdidh,enqiPsaoelce dht pel\ufffdeieit aiq ous pt der ib lidstege jqcpe, \ufffdi n\u00e9ple\ufffdmapp c\ufffds \n----"
      },
      {
       "output_type": "stream",
       "stream": "stdout",
       "text": "\niter 400, loss: 90.166267\n----\n  crrq s seiera li- quouolant Li baitaenAlreo e souoaitoqars es \ufffditen mnt rr tefu\ufffdt, \ufffdes loretiis dr, bu domt sr aesopi ce de m\ufffdrs vode AA rlen der\ufffd\ufffdd\ufffdc moun quu, n, te ri detj\ufffdimeneevrons cour\ufffdP\ufffd cent \n----"
      },
      {
       "output_type": "stream",
       "stream": "stdout",
       "text": "\niter 500, loss: 87.405168\n----\n nt nNadtipfus \ufffdpp cons ntaneass\u00e0 pl dnclis lerLn  venun mic\ufffdppontamvainrallon, en mnLn, cn iortmavipiouons qu\ufffd. d'us \ufffdu lous iAan,r\u00e9t mM qoonvpit vuunleu une ce cot, quon mnginiri\u00e2n chinou, lh\ufffdl\u00e8i \n----"
      },
      {
       "output_type": "stream",
       "stream": "stdout",
       "text": "\niter 600, loss: 84.507227\n----\n f v dEs livi\ufffdge Ne cncvp\u00e9 qee di bmen es te ce l\u00e9 \u00e8u. retiP\ufffdgt\u00e9st\ufffdt ver r. dh mntete chglmr\ufffds. ls lMes is, \u00e9 des Mh este de quevemblobt les hetet mis be vi tioen ce d'nvavo ms 1e d an  \ufffdMique me  \n----"
      },
      {
       "output_type": "stream",
       "stream": "stdout",
       "text": "\niter 700, loss: 81.610252\n----\n  nuape ent nu anuare :entaumev \u00e9tinlerte je c'antpu, puourml'anguns fur'al\u00e9, queulaus l': erant m\ufffdtt covinu \ufffdle ce ci,uteijnEivievue pence iomp\ufffdlns a\u00e9tdppe de tegpet lre ue v'ant vi, \u00e9 drona ce ur \n----"
      },
      {
       "output_type": "stream",
       "stream": "stdout",
       "text": "\niter 800, loss: 78.681165\n----\n ns neealee 2h lamoqis l'avons vapeti\u00e9tdols, l'achmavout lirsaochaisba\u00e9 firnrc\ufffdetlais  e c'avaanblaii c\u00e9t \u00e9ti.uous nous lour que, ai,fantes jolaee ie\ufffdioque cr. quepaimle lant shan ais aii, cigsusse \n----"
      },
      {
       "output_type": "stream",
       "stream": "stdout",
       "text": "\niter 900, loss: 75.993973\n----\n \u00e9 ter\u00e9 li mpr leamorsque ce virr jo s,an, p\ufffds rs rvais des hesmrt, entis que, nr que, \ufffd\ufffd, en lmans \u00e2te feumance P\u00e9, aiqu1, pall'\u00e2get\u00e9 m\ufffde Pe \u00e9 ne dons cog\u00e0 m'am'\u00e8\ufffd\ufffd\ufffds, ppats. Pit mfoitais -e \n----"
      },
      {
       "output_type": "stream",
       "stream": "stdout",
       "text": "\niter 1000, loss: 73.203696\n----\n pans etis \ufffdn je \ufffdng\u00e9talinutour de vint l'ipeluegeri\ufffdaitte :e de, ie delsui\u00e9 lerterde que N'\u00e0 outeler, \u00e0 lois uipaitis le d\u00e9paitis aite que Phisijetvans l\ufffdmiti\u00e9 lap\ufffdi dhes Jout bors es l'ipances  \n----"
      },
      {
       "output_type": "stream",
       "stream": "stdout",
       "text": "\niter 1100, loss: 70.410254\n----\n ol pritilf le cetipre de menlueller r\u00e2ger e t\u00e9telope qur temesquapterut nol Mue pe d\ufffdmote \u00e0  holo\ufffdde sor ledare lont de i\u00e9tislaice M'oitaisouvpe ce lnnr ted se ler\u00e9 me lrps re, er je u'omet de c \n----"
      },
      {
       "output_type": "stream",
       "stream": "stdout",
       "text": "\niter 1200, loss: 67.663828\n----\n \u00e2gt Pippir\u00e9pli\u00e9gpous sentu\ufffdrv\u00e9ravron ant ques Nitdoump\u00e9g\u00e9 \u00e2tipr qurlle site l'alo d'an l'auis dant inu. lionchlris Nounlrequepp\u00e9tavipaic'aun vn\ufffdu nNouviee \u00e9 que quansi\u00e9t\ufffd'avoaie  pnu li\u00e9 ce \n----"
      },
      {
       "output_type": "stream",
       "stream": "stdout",
       "text": "\niter 1300, loss: 65.040008\n----\n a , e, me dous \u00e9 ie de me sout quetteraloie te bors \u00e8ie boigqurr. \ufffdn piubleelev'er Me c\u00e9 mb de deut l picevce que ce lersour chorvie moure sen que, et deubeaitee Nous mi qualious les let eade \u00e9 \u00e9 \n----"
      },
      {
       "output_type": "stream",
       "stream": "stdout",
       "text": "\niter 1400, loss: 62.480363\n----\n aitaita-manua m'itartralner lonu de qua, ancheue chiliplu Avpns d'\u00e9 uout teus nu le P'aliaisi vnis que, ente b'ams arire le, ce quesaidu mance ton let nub\u00e9 2on tre mu n'ancaus veubl'e que, penti: fr \n----"
      },
      {
       "output_type": "stream",
       "stream": "stdout",
       "text": "\niter 1500, loss: 59.919759\n----\n ns j'ais je de torlppn pmais re jooempe de Phpet\u00e9geig'ous aptte cresit\u00e9sel e le l'ancaque \u00e9 m'isars\u00e9tais pe  mongus li\u00e9 nt dellars poublie \u00e0 ri\ufffdbier un scheis \ufffd\u00e9 midblEegle. m\u00e9tai lon borsend  \n----"
      },
      {
       "output_type": "stream",
       "stream": "stdout",
       "text": "\niter 1600, loss: 57.443932\n----\n ente, Aal\u00e8speippout l'\u00e0 amitiglitire fapoue, loitil f: m'aioien l'eu eroque litrnli, antemps, li, enu joms, en Mnilts uq pare vit\u00e8tsirvu'ure. Nous frplirnce 21 cn l'plue quasvomppier sautaitie de l \n----"
      },
      {
       "output_type": "stream",
       "stream": "stdout",
       "text": "\niter 1700, loss: 55.002423\n----\n pans je jaut l'ait t\u00fbte les letie de 2'aut tous \u00e0tdes \u00e9pier \u00e9peip\ufffd daus le q\ufffdis ihides c\u00e9 cr ce lout lhiles letee d\u00e9 friser je da\ufffdsbivenf silusliene dr cous lesle. mons,faprier\u00e9 de P\ufffdpans lense \n----"
      },
      {
       "output_type": "stream",
       "stream": "stdout",
       "text": "\niter 1800, loss: 52.654679\n----\n res ie voub ie de que, pens.revait sous, semer, \u00e9t\u00e9 \u00e9tis de ma d\u00e9t\u00e9 de le de de l1 de lqur dilquate. Mnt v'\u00e9 que je  que, pe tnf dr de je sons, f d\u00e9ter\u00e2gtes pe cou. l'el er jont je cblev touse \n----"
      },
      {
       "output_type": "stream",
       "stream": "stdout",
       "text": "\niter 1900, loss: 50.384901\n----\n rtir ce l'on\ufffdo i\ufffdiet u\ufffdig\u00e9g\u00e9rais leitaer sedenuaps arol\ufffdplip\u00e9t\u00e9 que nons, jour l'\u00e9tte sout, pami\u00e9 aipavilus ne cr\u00e9tarrque, pendaisurp\u00e7ppinencaidapoie dreque, ilis, viin ler\u00e9pprr\u00e9ta\ufffdui quaur \n----"
      },
      {
       "output_type": "stream",
       "stream": "stdout",
       "text": "\niter 2000, loss: 48.191612\n----\n a vie, et que m\u00e9tanu v\u00e0 liolin pe cotde que, de tous \u00e0 M\u2019avous de, \u00e9 Ps le cr\u00e9 tiut, un qurlier Nordr met Ar s'us chei, er Pe \u00e8de me ques fl\u00e9tes de no d. cous mai qubqualetelle bour er perine \n----"
      },
      {
       "output_type": "stream",
       "stream": "stdout",
       "text": "\niter 2100, loss: 46.066137\n----\n \u00e9 J'\u00e9taidns \u00e9pait l'\u00e0 chen, pe taus vete cagtaut rous is l'anira2\ufffdis de ma P\u2019attus le siun seus nontemps letcher me cho\u00e9 de qoantan avilut \u00e9 com\ufffds out d'\u00e9 \u00e9tami vin vout pois, nt ceritpe tau \n----"
      },
      {
       "output_type": "stream",
       "stream": "stdout",
       "text": "\niter 2200, loss: 44.055017\n----\n u1 \u00e0 paut \u00e9g\u00e9 de l'\u00e2g\u00e9 21 de tous \u00e9gierina\ufffdser je squt, fut cipriit \u00e9p\u00e9 de que faps ai 1ode qui, peus mer mantireverlentet j\u00e9tait dn marer de lois rratchint \u00e9 de quamst\u00e8senblen bous cegli\u00e9 \n----"
      },
      {
       "output_type": "stream",
       "stream": "stdout",
       "text": "\niter 2300, loss: 42.109279\n----\n ipoitn\u00e9gnogensavrartais -nu crare, lenllidasrais es : je deselun ant nous aut soublee, je de m\u2019avitr\u00e9titrer le chervaer : je l'el pout es l'rlien bne, sous ur l'rrenflemps, unuter que Pe lerteulen \n----"
      },
      {
       "output_type": "stream",
       "stream": "stdout",
       "text": "\niter 2400, loss: 40.198550\n----\n pandade qmis ongnitde ch lerer uarige\u00e9ppitema\u00e9 cher, paus de que quis l\u00e9 \u00e9tantaitles que, pansire bous fait rpant veou pe Phins l\u00e9g\u00e9tevait dans, vens de conlesolen m1 ce ques napti-mantain ilois \n----"
      },
      {
       "output_type": "stream",
       "stream": "stdout",
       "text": "\niter 2500, loss: 38.386688\n----\n ous les ous ce, en l'autr\u00e9 de sous \u00e0 L\ufffdut de d\ufffd dans \u00e0 d'\u00e9tre po\u00e9tione foit je v\u2019ats l'ait sout mo\u00e9 temeter de que, lordnttois le que, \ufffd\ufffdgt cons le que je cois, \u00e0 d'aloa conlons co'\u00e9 cr col\ufffd \n----"
      },
      {
       "output_type": "stream",
       "stream": "stdout",
       "text": "\niter 2600, loss: 36.735978\n----\n ania dmps au, lons de noisque, ponserv\u00e9 cr\u00e9 \u00e9slous lui mai, erceunlis les \ufffdhi\u00e9paichers\u00e9 Pe cher, \u00e9rait jout, llis ance. \u00e9 ce L\u2019age selenuesrir serinouseiplitnces mons mesilue eour, v\u00e2ge l'rr \n----"
      },
      {
       "output_type": "stream",
       "stream": "stdout",
       "text": "\niter 2700, loss: 35.166287\n----\n a vie, er L'\u00e2ge de 21 demlart blit elun Ancevier fue gence jois \ufffdl lont noces Mut ce l'\u00e0 je ce l'es \u00e2gtempmoublet mou bou que ne dr dpenait enublen ane crtes mon b\ufffdade me, et Phile c\ufffdlin dans ue l\ufffd \n----"
      },
      {
       "output_type": "stream",
       "stream": "stdout",
       "text": "\niter 2800, loss: 33.623002\n----\n \u00e9nait ce mal, \u00e2gel nublianintene , j'ant vinu peurps \u00e9titres ongt Jtin \u00e9gne fous ant Phini cour que je m\ufffdns ma dandaun ansaitaism\u00e9tair ceane troub oue L\ufffdmpine sout ne li\u00e9pour iooibue dapL\ufffdaiter  \n----"
      },
      {
       "output_type": "stream",
       "stream": "stdout",
       "text": "\niter 2900, loss: 32.192807\n----\n rvionvenu je jeaviard-vis  tais adtet dons tem\u00e9tre p\u00e9 ce me chor, de nous aamip\u00e9t\u00e9tapt vent moisu dans je vont et littiaut vint motons. joubles rantiss J'aurre cJub amj\u00e9tneres \u00e9pempe anublentegp \n----"
      },
      {
       "output_type": "stream",
       "stream": "stdout",
       "text": "\niter 3000, loss: 30.750212\n----\n iemer qoe, alce \u00e9 temps leris lquelteresous amititoubcemisieviou bois fus col vont voura\ufffdile cher nerde Larditece ce laps ance capitappn r\u00e9 de n\ufffd\u00e9ceurera'r\u00e9tait vinu blis anmes leterus mhiliou fou \n----"
      },
      {
       "output_type": "stream",
       "stream": "stdout",
       "text": "\niter 3100, loss: 29.425344\n----\n pemgni chervrir cetait e de m'de to\u00e9gle de lien degnars \u00e0 l'a ce li ue marins de sous le jrais\u00e9 nitre sim\ufffdt b\ufffdintantis \u00e0 Philitni dipnt cheus lencblip sele ques fubques ootri pet mois \u00e0 liu  s li \n----"
      },
      {
       "output_type": "stream",
       "stream": "stdout",
       "text": "\niter 3200, loss: 28.089738\n----\n aps, un lut\u00e9 cenle de, \u00e2ge chor, le lorsque, er lorservoit de litterte poustrene ma cher, fait reque, pon bord. Mais \u00e2je me Pherchercrelle, en site frantretertet one chil, ll digtir je let\u00e9 d'onbo \n----"
      },
      {
       "output_type": "stream",
       "stream": "stdout",
       "text": "\niter 3300, loss: 26.866444\n----\n autre touipen se le maliite, peut Moli, \u00e0 de lie, pout e c\u00e9ra\u00e7ans M\u00e9 ce ltreque, \u00e0g\u00e9 des malce jo ser\u00e9 d'antansvrio cons. Nous avion p\u00e2tairus le me chir, l\u00e9gperiloes ut sous. je cap\u00e9plippsel \n----"
      },
      {
       "output_type": "stream",
       "stream": "stdout",
       "text": "\niter 3400, loss: 25.639361\n----\n a vie, et tous le, \u00e9tait et e teu pe A: aties L\u2019a con empl Nous les lus je serdais re enubje lirrvenu erun des me quelvrcresen . miselue, plus \u00e9tait e a'ais\ufffdletin di lieuselon  sour lerlie d'enb\u00e2 \n----"
      },
      {
       "output_type": "stream",
       "stream": "stdout",
       "text": "\niter 3500, loss: 24.498399\n----\n \u00e9tais un  maren ma dagt \u00e9t\u00e9 de L\u2019Espoisempr, l\u00e9ger de liru g'ut m'aainotemps, je devnnt sendantant vioubli\u00e9tais venu j'ut de unt ut que que maiti Mans tout ou ptr\u00e9 teritaes endenbence ce. amit \n----"
      },
      {
       "output_type": "stream",
       "stream": "stdout",
       "text": "\niter 3600, loss: 23.381884\n----\n ns le je s \u00e9tait drlns le. Nous aviomppamplerles, u\ufffdge \u00e9 tempr de m'\u00e2g\u00e9 j'arcb apprit sens cetomapemplue \u00e2ge me che\u00e8re maitie ser\ufffdlte l'\u00e9 m'\u00e9p\u00e9s nous liller \u00e9tob pp , le l1 sque, \u00e9taimais a \n----"
      },
      {
       "output_type": "stream",
       "stream": "stdout",
       "text": "\niter 3700, loss: 22.618061\n----\n ippe, ulus -nountes lous u\ufffd tou nre fal\u00e9ppiter divemoinn de 2'alce li-uapoor\u00e9pps ub Philippe Phere aii venq en la\u00e2ge de de 2'\u00e9,\u00e9tonu le bougterusardr lons m'\u00e9i\u00e9tol\u00e9tre l'ansrrdans de quis font \n----"
      },
      {
       "output_type": "stream",
       "stream": "stdout",
       "text": "\niter 3800, loss: 21.570681\n----\n peiteipaie ve mais le que, pen ant vaus et tous ten va\u00e8 tous \u00e9tair \u00e0 deteublis cou paun seus sebli\u00e9p\u00e8sple l\u00e9gais lignirrce trr\u00e8et Mi\u00e9t\u00e9 l'\u00e2ge de sor ioi que, et J'\u00e9t\u00e9s\u00e8s, vens me trevait  \n----"
      },
      {
       "output_type": "stream",
       "stream": "stdout",
       "text": "\niter 3900, loss: 20.554213\n----\n ais amitarei lons v\u00e8s, jaura si\u00e9itill\u00e9paidis \u00e0 anglitre t\ufffdm\ufffdnt cole, en quali, llarire que ne cr\u00e9 \u00e9rancevoin en Amrre que, er d'enc-maitie de lerdagt ue cher, \u00e9tain sous l. jous applitie teu l\ufffd \n----"
      },
      {
       "output_type": "stream",
       "stream": "stdout",
       "text": "\niter 4000, loss: 19.493043\n----\n \u00e9t\u00e9 ce inus les ons caliere ve Lorsire, uuttaut sous cag\u00e9 lis fe L\u2019app\u00e9. er lans lout en qu\u00e9 te. d\u00e9raime, \u00e9pait \u00e9ppercher, \u00e2g\u00e9 que j'antant noub it daut lens cu, er horsious que v\u00e9t iout  \n----"
      },
      {
       "output_type": "stream",
       "stream": "stdout",
       "text": "\niter 4100, loss: 18.713562\n----\n a vie, \u00e0 parde lonserp\u00e2g\u00e9 d'et r\u00e9 tet moisiles avce j'amuue coure chilun ns ce l'elque j'avais de j'ait\u00e8s, sour l'au, et tivriureten tementanten \u00e2ge serde, \u00e9tairut le cuble quelit\u00e9 de quigni n \n----"
      },
      {
       "output_type": "stream",
       "stream": "stdout",
       "text": "\niter 4200, loss: 17.754684\n----\n \u00e9t\u00e9tenf\u00e2gel ng sant sous e'ans cote, pout ceitillin\u00e9tant vi\u00e9p\u00e9rance. Nous avion pours m\u00e9t\u00e9gtil\u00e9 de L\u2019Esp\u00e9tes le \u00e9pait ett\u00e9 d'ance ser mor joui \u00e9tlercher, \u00e9tait ertre .out lercaun true  \n----"
      },
      {
       "output_type": "stream",
       "stream": "stdout",
       "text": "\niter 4300, loss: 16.843622\n----\n len Ar le ce ce l\u00e9ger de ma diviout vine cher, en quitnindeti\u00e9temarit\ufffdjtais oritars anme que, pous les ordren\ufffdde sous \u00e0 lir cette dret vecblacre \u00e2gler, en ma sirdais encenten toustaus cegte loagc- \n----"
      },
      {
       "output_type": "stream",
       "stream": "stdout",
       "text": "\niter 4400, loss: 15.970866\n----\n ippe, de m'iliel ngenspliencence que, plur je n\u2019Esp\u00e9tancavillinten pometcutenfrolinle me cheub\u00e9taitre p'aimer : je m'\u00e9tais fagtorisen pa\u00e9gei niaut tous lerce liauiretant nous avit-len \u00e8serretee \n----"
      },
      {
       "output_type": "stream",
       "stream": "stdout",
       "text": "\niter 4500, loss: 15.252417\n----\n er nietardquv eu l\u00e9 qurcap\u00e9 de lieutrps tee jo ditraus ce quitter \u00e9t\u00e9 de Paitaut enun r\u00e9 de lie que qu\u00e9 ce. ma daut en que quis j' sit\u00e9 d'\u00e9te. jo vitt viorin etetteten pitrque e'olit\u00e9ppi \u00e9p\ufffd \n----"
      },
      {
       "output_type": "stream",
       "stream": "stdout",
       "text": "\niter 4600, loss: 14.899964\n----\n ais an b\u00e9pait sous les o'de qur que, et mois re qui, fritait itavait ce temprit de Philsentans colevois apr\u00e8s,leaqmet, je r\u2019Espevene jous remercaviontant tous les ordranuble lenu fren poue degque, \n----"
      },
      {
       "output_type": "stream",
       "stream": "stdout",
       "text": "\niter 4700, loss: 14.585317\n----\n \u00e2ge daus uoure aoi\u00e8se se momrncemaimrintesen drvenutetan quane de tous on quelerubliois crpns colien pans uot\u00e8tearaut mons magtl\u00e2g\u00e9 ait cous laus de ma dans me fr\u00e2geiseres ma dans \u00e0 daarire j\u00e9 \n----"
      },
      {
       "output_type": "stream",
       "stream": "stdout",
       "text": "\niter 4800, loss: 13.949773\n----\n a vie, \u00e0 partie de tonsesvie  : je m'\u00e9tais faut de mous les ougti\u00e9 dignat\u00e9 de que ques jous uoorchervaoubler que, pendant toue de quelquesel\u00e2ge de qualitre tous les c\ufffdlis evois \u00e9 cette \u00e9tonsen  \n----"
      },
      {
       "output_type": "stream",
       "stream": "stdout",
       "text": "\niter 4900, loss: 13.288788\n----\n ait\u00e8s, in saus ance que, je nitretentemalitrer que, frvooitte que de ce lilqualioubliun paus res conser dette da-rais anmait venq pone teus de moiser\u00e9tques mon ns sers\u00e9taitais le que, ilut \u00e9t\u00e8rel \n----"
      },
      {
       "output_type": "stream",
       "stream": "stdout",
       "text": "\niter 5000, loss: 12.634129\n----\n rs \u00e2tier ce, ut lous et mons otse \u00e9thfavier l\u00e9gles colle ter col\u00e9ta. Phirit\u00e9t\u00e9 d'enfancette quitterveon bois ce, et Mais au bout vens monrns de napt temence que, pendans es lie quelque que tan b \n----"
      },
      {
       "output_type": "stream",
       "stream": "stdout",
       "text": "\niter 5100, loss: 12.097435\n----\n ippe, il entet daur lous les o'deques iret Noue \u00e8teloe, et nous eu timanir mon Philvenu trolir, de je crus de, jour, er d'un pour loisiletce tin\u00e9 de te\u00e9paitres noenge ce lercherv\u00e9rancqualenllenten \n----"
      },
      {
       "output_type": "stream",
       "stream": "stdout",
       "text": "\niter 5200, loss: 11.500780\n----\n plus venberun dait,blun pe que je crus de moi moise en  ma\u00e9 ce bois face \u00e9tavinu lrit \u00e2g\u00e9 quelette que je dravois fait recevoir ir d'en amoquesque, \u00e9tais etns m' chl\u00e9tait \u00e9tait ce que j'avais c \n----"
      },
      {
       "output_type": "stream",
       "stream": "stdout",
       "text": "\niter 5300, loss: 10.888696\n----\n ais \u00e0 \u00e7trious re que je crut de quilier lons \u00e9tait vonse que tou tenlen lmitie de cap\u00e9 de ne l\u00e9ger de Phire te, ions me e mr l'\u00e2ge de cette jioisr sque, pevoie f'\u00e9t\ufffdl vionin\u00e9tiervite : aritema \n----"
      },
      {
       "output_type": "stream",
       "stream": "stdout",
       "text": "\niter 5400, loss: 10.692569\n----\n et r\u00e9 quesemarique, ponti\u00e9tait de nous les ondise de Mais re enulivis ut me drvm\ufffdritres oo sout col\u00e8ue de quel aut ce lervisr daus liglirutauc- oubli\u00e9 ce l\u00e9paigeesenten pons m'\u00e9taisque, pendant  \n----"
      },
      {
       "output_type": "stream",
       "stream": "stdout",
       "text": "\niter 5500, loss: 10.504385\n----\n a vie, \u00e0 onr seitemps, un sous cante que m\u00e9 je ce tementeeter mon ami vour ce leres de ma dagt et blit venu troisr\u00e0 pe de caps ance c\u00e9 ait vraut de que je crus de cett\u00e9tie vetramr ce L'ou\ufffdreque m \n----"
      },
      {
       "output_type": "stream",
       "stream": "stdout",
       "text": "\niter 5600, loss: 9.989092\n----\n \u00e9tais faitaricevoir l'\u00e2ge de jonserquesenus, non pet mou, \u00e0 dagtien bres maitieuter lonse de lous le quelqu\u00e8r, et que j'aimait e vair ami er que j'anmant noes ae er Mai\ufffdEsp\u00e9tancevais chilerchirio \n----"
      },
      {
       "output_type": "stream",
       "stream": "stdout",
       "text": "\niter 5700, loss: 9.469617\n----\n line temre re emp\u00e8r, \u00e0 li\u00e9pouretar\ufffdip\u00e9 cet moisi et ois ie lieu boubque que ma\u00e9 de , \u00e2g\u00e9 cetle cons. jo Philienerenfenc vious me, \u00e2g\u00e8se que jole ce te  : je ce vitrque qu\u00e9tais le tompres de  \n----"
      },
      {
       "output_type": "stream",
       "stream": "stdout",
       "text": "\niter 5800, loss: 8.969144\n----\n ipait vesque, er nous let u-soot\u00e9rait venu prut colieue. Nous aviontans m\ufffds avions conserv\u00e9 l'rnsatitre moisioldr 21 desenut,mps, ve canserviempe de tous les marins. J'aimais lierajiais drvnoasi\u00e9t \n----"
      },
      {
       "output_type": "stream",
       "stream": "stdout",
       "text": "\niter 5900, loss: 8.502567\n----\n plus \u00e2g\u00e9 ait cous lemvetee que je i\ufffds re er lit\u00e9 ce l\u00e9 ait boois, en bond de qualioite moten je l\u2019appris \u00e0 Philde mois- et mou, \u00e9tait daus en boit ce captiblis eu  mi\u00e8s, je j'avais fag\u00e9raor \n----"
      },
      {
       "output_type": "stream",
       "stream": "stdout",
       "text": "\niter 6000, loss: 8.373651\n----\n ais av\u00e9 lirque que 2'i que moi,t llen Mais aumenane je n'ain\ufffd me chercher, es 21 dans, je servait emanians un Angle que marti. de 21 dans urescevois le capr blus ee l'etc\u00e2ge fait esce l\u2019appris \u00e0  \n----"
      },
      {
       "output_type": "stream",
       "stream": "stdout",
       "text": "\niter 6100, loss: 8.278050\n----\n autre notre jo serv\u00e9taitaite l\u00e2g\u00e9 ait cse v\u00e9 temps le que joos m'\u00e9t\u00e9gqus cet mait venu tonu de monse je sque, fut celle ce oirrsous, cons ce ce le digneraisuserv\u00e9ger \u00e9titreliemanmaurlence teml \n----"
      },
      {
       "output_type": "stream",
       "stream": "stdout",
       "text": "\niter 6200, loss: 7.986485\n----\n a vie, \u00e0 partir de quesque j'avr\u00e8s, ma dus mem, \u00e9tait venu troubler : je m'\u00e9tais fait recevoir franc-ma\u00e7on amiter de que je crus de ma ditnc-na\u00e7on Angles out ce anr v\u00e9 \u00e9 l'\u00e2ge de naps apr\u00e8s, \n----"
      },
      {
       "output_type": "stream",
       "stream": "stdout",
       "text": "\niter 6300, loss: 7.564207\n----\n \u00e9tais fur fun bor\u00e9pps le 2\ufffdge se se de l\u00e9t er uotse de ma dignis l'\u00e2t\u00e8se vens ce lelle qualie drenfance que, je Philipre, et taitie de caprite lrrnfrrterr\u00e8te un seul vmaut moisi dins r\ufffdb ps bout \n----"
      },
      {
       "output_type": "stream",
       "stream": "stdout",
       "text": "\niter 6400, loss: 7.151652\n----\n isi et, \u00e0 l'\u00e2ge de quelje  mareiemai, je timps, et lontirrle de notre pon nmp\u00e7pe er liel etellete le, et lorsque, longtemps apr\u00e8s, je l\u2019appris \u00e0 Philippe, il entra dans ut dait recep\u00e9plque, fu \n----"
      },
      {
       "output_type": "stream",
       "stream": "stdout",
       "text": "\niter 6500, loss: 6.762881\n----\n ippe qui, plus \u00e2gie phitais les out cellerisre, pe \u00e9pps m\ufffdrce timancblie quitne de ma dignitairut me cher, \u00e0 pantie \u00e9plit\u00e9 de quetque tal amr \ufffdsr\u00e8s, \u00e0 liet\ufffdbtiercole, \u00e0 l\u2019app celieres lierit \n----"
      },
      {
       "output_type": "stream",
       "stream": "stdout",
       "text": "\niter 6600, loss: 6.398349\n----\n plus \u00e2g\u00e9 temps en qualinns mon bous temai, ersent\u00e9 de qualiomate \u00e9pait dans en le mous re, et lorsque, ous lerce uit\u00e9 de L\u2019Esp\u00e9rance. Nous ance que, pon ait sous le boititret,rolenue que 2'ili \n----"
      },
      {
       "output_type": "stream",
       "stream": "stdout",
       "text": "\niter 6700, loss: 6.193158\n----\n ais au bout de L\u2019Esp\u00e9rand violente qui j'anr ntantais  en sous leaue de ma dant erant violence, er que j'avais Philipperlhelcotre j'avaai cr \u00e9plque, pons \u00e9 d'anc-. \u00e9pait dentans consine liprer d \n----"
      },
      {
       "output_type": "stream",
       "stream": "stdout",
       "text": "\niter 6800, loss: 6.019757\n----\n autre c\u00e0 pandaimg\u00e9tait s mp cap\u00e8-manda chller L\u2019Esp\u00e9rance. Nous avions conservpe que, pev\u00e9 l'rnce que, pendant tout ce temps,let, \u00e0 l'autre no sile ce l\u2019avit\u00e9 de quitques oubli\u00e9pn . Jparch \n----"
      },
      {
       "output_type": "stream",
       "stream": "stdout",
       "text": "\niter 6900, loss: 5.729431\n----\n a vie, \u00e0 onr sens, jours cons ce te  ma\u00e2ge it lipl rous les mare \u00e9tier linbl'un pourllvans cour les out ce, er norrque, et lorsque, favsiut nor, \u00e9to\ufffdrvoer lon ques jourans  m\ufffdr ce l\u00e9ger de quitte \n----"
      },
      {
       "output_type": "stream",
       "stream": "stdout",
       "text": "\niter 7000, loss: 5.429267\n----\n \u00e9tais fait rece je choisi lpitee m' chois  deteutenetie de tons on boitter detco \u00e9p\ufffdqui que je caus lon . \u00e9 lit mon novenu se je crus de quilipoun tiorians re enuque, er sous le quelques jours uher \n----"
      },
      {
       "output_type": "stream",
       "stream": "stdout",
       "text": "\niter 7100, loss: 5.141085\n----\n isi ven pomppe pp d'un emg\u00e9tait tous lenublionent\u00fb en m\u00e9 cette \u00e9pps ou\u00e9pa dant cout le mpe fren \u00e2ge le cous loise de Philippe que, plus \u00e2g\u00e9 que moi, \u00e9taitre quipenlanolentt\u00e9ger de Philippe q \n----"
      },
      {
       "output_type": "stream",
       "stream": "stdout",
       "text": "\niter 7200, loss: 4.871063\n----\n sendan\ufffdant sous, jois le couserv\u00e9t sous a\u00e7on en l\ufffdpps uquvi\u00e9 cr lerte liprit e tra dans . me cher moi, \u00e9tait devenu le capitie ve\u00e2ge un le lienons cette \u00e9totre vi\u00e9 ce quilier sous les maien je  \n----"
      },
      {
       "output_type": "stream",
       "stream": "stdout",
       "text": "\niter 7300, loss: 4.617419\n----\n plus \u00e2g\u00e9 que moi, \u00e9tait devenu le cette \u00e9poque, fuveime, \ufffdl m'resen, ce tempr, je ema\u00e8rcheuten tieliem\u00e9tais evens de quelles ma da Lapptes j\u00e9tie de ta\ufffdtami es tons bois fait receete teu de que  \n----"
      },
      {
       "output_type": "stream",
       "stream": "stdout",
       "text": "\niter 7400, loss: 4.387053\n----\n our ce l\u2019app detnap\u00e9pandeviou que jo seut sout ron lirlerce litres ut Phili\u00e9pone de tous lercherc\u00e8renselerce m\u00e9 ter martie liru ten .mrreter ur t\u2019Esprer s un seulleu pnulpe, io, \u00e0g\u00e9tait de 2 \n----"
      },
      {
       "output_type": "stream",
       "stream": "stdout",
       "text": "\niter 7500, loss: 5.007963\n----\n aus en qualit\u00e9 de nque voue ce l'rn: apitemanors le que, fuvens ce, et lors re, pette dien amitarine. jr s ut sour l'dnbque, pencev\u00e9 ce ce de quitna dais re enutapiter morima\u00e9 de quitver ques fait  \n----"
      },
      {
       "output_type": "stream",
       "stream": "stdout",
       "text": "\niter 7600, loss: 5.868005\n----\n a vie, \u00e0 partir de conseret devPhe inu mp quatitre de tous l'aut ente que ma de nous leng fres vit ce, er tont me dret,r\u00e9 ce l\u00e9tait devmout moi, \u00e9taitais ll de qoou ppe qui, pougtis conse\ufffdse conse \n----"
      },
      {
       "output_type": "stream",
       "stream": "stdout",
       "text": "\niter 7700, loss: 5.830000\n----\n \u00e9tais fait recevoir fr torsque, \u00e9tait ten \u00e9pairus de ma dandEsene de quitter son bord. Mais au enulsenteter tous cet\u00e9 dalique, fuvenu de qqul col\u00e9tie dait \u00e9tes de L\u2019Esp\u00e9rance. Nous avions con \n----"
      },
      {
       "output_type": "stream",
       "stream": "stdout",
       "text": "\niter 7800, loss: 5.646174\n----\n isi et, \u00e0 l'ru \u00e9tait devenu l\u00e9 ait sout les \u00e0tami es le chercher, et nous e\ufffdttitres daus ens col\u00e8re tel sous le chercher, ou tout mer que, pendant tout cev \u00e2ge un l\u00e9ptemai, \ufffdntitres rous les or \n----"
      },
      {
       "output_type": "stream",
       "stream": "stdout",
       "text": "\niter 7900, loss: 5.392663\n----\n ippe, il entra daliaurrvenge dr sonserandit\ufffdhglercotre ppprelje de 21 dans, je servais en quilqualL\ufffdre me L\u2019Esp\u00e9rance. Nous avions conserv\u00e9 l'ut de 21 de unt colierentromppe ppa sous ari, \u00e9tait d \n----"
      },
      {
       "output_type": "stream",
       "stream": "stdout",
       "text": "\niter 8000, loss: 5.096790\n----\n plllittani calse amiti\u00e9 capr faie \u00e2g\u00e9 cr serdans etencevie que ques a\u00e7on ant tout je cher qr\ufffdt m\ufffdrin dais et l'\u00e2ge de 21 dans, jeitereserque quitter son bord. Jque enu te  ma\u00e7on en Angleterre, e \n----"
      },
      {
       "output_type": "stream",
       "stream": "stdout",
       "text": "\niter 8100, loss: 4.810175\n----\n  de mo sout me chercher, et nous e\u00fbmes bien amit moi, ee tous le queliemen le quelL'ut \u00e9 l'anc-. de lous len aidrenaane pe ce telle enubler marintene de maitien mr tous lesera\u00e9 celque tou prutani t \n----"
      },
      {
       "output_type": "stream",
       "stream": "stdout",
       "text": "\niter 8200, loss: 4.541806\n----\n autre notre amiti\u00e9 d'\u00e9 jr dietar\u00e9rcher, \u00e9tait venu troubppiter dans, je s'\u00e2ge de lons, je chi\u00e7\u00e9 ce. Nous avions conserv\u00e9 l'un pour l'autre quitair cr de cour lolitais le quelque que, pe de tou \n----"
      },
      {
       "output_type": "stream",
       "stream": "stdout",
       "text": "\niter 8300, loss: 4.288598\n----\n a vie, \u00e0 par\u00e9 d'enfance que, fans un lielque que, et lous e\u00fbmes bien vite oubli\u00e9 ce l\u00e9ger de mage venu tro se le d'enc-novenu arin p\ufffdtair venu t\u00e8re re r\u00fbmes u\ufffd emppauions sea sorrque, el nittir \n----"
      },
      {
       "output_type": "stream",
       "stream": "stdout",
       "text": "\niter 8400, loss: 4.052560\n----\n \u00e9tais fait rece, et loesque, long emare je srrvais en qualit\u00e9 de lieutenant sous les fadrononservenu t\u00e7ge \ufffdage de L\u2019Esp\u00e9rance. Nous avions motse dans une ce de tous les ordntempoiempsiapr il\u00e9 j \n----"
      },
      {
       "output_type": "stream",
       "stream": "stdout",
       "text": "\niter 8500, loss: 3.833612\n----\n isi et ois, je enu ant vais en qualit\u00e9 veus de L\u2019Esp\u00e9 ant moise en and sous le ma de c\u00e9tie de tous les marins. J'aimais le mous  qje, fons m\u00e9tie de que, plus retempe chorinten\ufffd\u00e9taite que j'avra \n----"
      },
      {
       "output_type": "stream",
       "stream": "stdout",
       "text": "\niter 8600, loss: 3.629755\n----\n ippe, il emariter mirinotait venu troisiles or\u00e9 de no sirvens choripe lerlerchervenu t\u00e8r, un se le, je vous les oitter je l\u2019appris \u00e0 am\u00e9 ce litremadiliplipre que, pendant tous le cette de cappi  \n----"
      },
      {
       "output_type": "stream",
       "stream": "stdout",
       "text": "\niter 8700, loss: 3.441093\n----\n plut \u00e9 de cous langer ant colee \u00e9te llenteveir\u00e9rait vioquate le calie pl\u00e9tais fait recevoir franc-ma\u00e7on en Anguvais en seue tou taus fap\u00e9 de conservenu te  jhonietans, venles ont,nue que j'ans e \n----"
      },
      {
       "output_type": "stream",
       "stream": "stdout",
       "text": "\niter 8800, loss: 3.263089\n----\n ais au bout de quelque que que que j'aitre que j'avpps mous les out celle de tous les m\ufffd enulfans re Philippet\u00e9tair ce le quitter sou bous de notse de ma t ut vons ce j'anc-. de Philippe que, plus re \n----"
      },
      {
       "output_type": "stream",
       "stream": "stdout",
       "text": "\niter 8900, loss: 3.096034\n----\n \u00e2ge de 21 dans, jentant sous avions monser de Lotse jo serv\u00e9 l'un pour l'autre no d'\u00e2ge de 21 dans, je servais en qualit\u00e9 de lieutenant sous les o'dnce nonserv\u00e9r\u00e8app devenu le capitaine de L\u2019E \n----"
      },
      {
       "output_type": "stream",
       "stream": "stdout",
       "text": "\niter 9000, loss: 2.940010\n----\n a vie, \u00e0 lir\u00e8rt sous les ord. Mais au bout de quelques me chircher, et nous e\u00fbmes bitni\u00e0 de que je liglis iJ\u00e9 pe ce temps en que m'aisr\u00e9tain lue je m'aimaisre, eo\ufffdmerche\u00e8re je sque, fut celle d \n----"
      },
      {
       "output_type": "stream",
       "stream": "stdout",
       "text": "\niter 9100, loss: 2.799077\n----\n \u00e9tais fait en\ufffd \ufffdntpeur daut couserv\u00e9 d'anc-moi, le que, \ufffdlte, de Phire pe quitter lons b\u00e9t s de, re enubl\u00e0 amit sous le m\u00c0s re bous fari1 dantis je sous les ordrenait rvions me cher, \u00e0 pour lols \n----"
      },
      {
       "output_type": "stream",
       "stream": "stdout",
       "text": "\niter 9200, loss: 2.676090\n----\n isi et, \u00e0 l'\u00e2ge de Lorrboes : je Philipps que, pe canten de Phiripps lhentemp\u00e9 ce lercher, \u00e9tait vans an quelques ons cet moi,t\u00e9tait devenu le capitaine ce ques ou paut notse dais re enur daut en \n----"
      },
      {
       "output_type": "stream",
       "stream": "stdout",
       "text": "\niter 9300, loss: 2.557743\n----\n ippette \u00e9tonrrce ce lercher, \u00e9tait \u00e7te aut nois le que veittalsile nourplus lesquetns de L\u2019Ese\u00e9rans ma\u00e9 ce notre amitemps, un seul nuage \u00e9tait es j'aimais je l\ufffds Mnt moisi v\u00e9 l'un pour l'aut \n----"
      },
      {
       "output_type": "stream",
       "stream": "stdout",
       "text": "\niter 9400, loss: 2.440537\n----\n pous ee que je crus de L\u2019-seveoublioublie seu frgque, pevenu trus de que L\u2019Esplerveng lons on que L'us longe detta\u00e2ie me cour l'auieten \ufffdnt col\u00e9taus lonsensentes ma dagtoue je  oodrte li, je teu \n----"
      },
      {
       "output_type": "stream",
       "stream": "stdout",
       "text": "\niter 9500, loss: 2.335466\n----\n ais auresant nrage de ma de tous ce ques jourattavint colitre j'avion amiremps ll d'\u00e9tais fait recevois ami aprtemai, jouserv\u00e7ut moi,tee que j'avais choitie de L\u2019Eag\u00e9 d'enfance que, pendant n \u00e2t \n----"
      },
      {
       "output_type": "stream",
       "stream": "stdout",
       "text": "\niter 9600, loss: 2.237505\n----\n autre noli, etee Nous aviondans en si\u00e2ge de moi, \u00e9tait de quelques joursondrc\u00e9tait cance que, pongi\u00e9tier qualenu prit de mou tiuten s, de lors amamitel de Philquale me cout mes ma\u00e9 celli \u00e9paidr\ufffd \n----"
      },
      {
       "output_type": "stream",
       "stream": "stdout",
       "text": "\niter 9700, loss: 2.142394\n----\n a vie, \u00e0 pantans tout ce temps, un saus, t\u00e9 de chengpe \u00e9tamr ur liteque que, er nollit\u00e9 ce l\u00e9ger de Philippe qui, plus \u00e2g\u00e9 ait chois \u00e9tait devpouseren l'ancblis en l'\u00e2t\u00e8s, un se de L\u2019Esp\u00e9 \n----"
      },
      {
       "output_type": "stream",
       "stream": "stdout",
       "text": "\niter 9800, loss: 2.052447\n----\n \u00e9tai\u00e8s, \u00e9tait et loaitoiten le, je siaus \u00e0 darrire v\u00fbmes bitni ce le cette l\u2019appris \u00e0 Philippe qui, plus \u00e2g\u00e9 que moi, \u00e9tait devenu le capi, un tieliet ere jous le calss jous ant sous l'au\u00e9 \n----"
      },
      {
       "output_type": "stream",
       "stream": "stdout",
       "text": "\niter 9900, loss: 2.067304\n----\n lse que j'avions m\ufffdgtie \u00e9poque, fus teg\u00e9t\u00e9 je siaut mo\u00e2gellentema\u00e7tilue 21 de qualion lercher, en qua de ce de qui, et lienart de tous ama davques moi, je l\u2019apite. joue de tealionilie de que, p \n----"
      },
      {
       "output_type": "stream",
       "stream": "stdout",
       "text": "\niter 10000, loss: 2.867403\n----\n irus de L\u2019Esp\u00e9rance. Nous avais lhercher, et nors. de, ualentpancapites ma chelch reolenu tron pp\u00e9tais fait \u00e9tait dant de qurliv\u00e9 \u00e9tanrrvenu tronsrelena cherv\u00e9tonoise venubli\u00e9pais et lor, etv \n----"
      },
      {
       "output_type": "stream",
       "stream": "stdout",
       "text": "\niter 10100, loss: 4.410401\n----\n plus \u00e2g\u00e9 que moi : je ce l'aute. no ser\u00e9 d'ancre boaut entempret vitr lous ev, \u00e9tait qui, pl de lippans t\u00e9 ce le l\u2019appris \u00e0 partardans tous les marins. J'aima\u00e0 pari, \u00e9tait venu troubler : je \n----"
      },
      {
       "output_type": "stream",
       "stream": "stdout",
       "text": "\niter 10200, loss: 4.622342\n----\n ais aut tourensen pous de quitter son bord. Mais au bout desque que je crus de ma tous aviores Mais au bout de qualisre ne de tous les ordeteu. de cotre de L\u2019Esp\u00e9rance. Nous avions conserv\u00e9 l'un p \n----"
      },
      {
       "output_type": "stream",
       "stream": "stdout",
       "text": "\niter 10300, loss: 4.456190\n----\n \ufffdli\u00e9 oit\u00e9 de quitre de quelqursque, longtemps apr\u00e8s, de Lb\u00e9tancavions ce Phin, l\u00e9gpe ons. \u00e0 Phips le cres de 21 daitie de quis ven air fait recevoir franc-ma\u00e7on en Angleterre, et Mous amitellet \n----"
      },
      {
       "output_type": "stream",
       "stream": "stdout",
       "text": "\niter 10400, loss: 4.197846\n----\n a vie, et nous er que je crus de ma dignit ir s a\u00fbmes ondreque, fut ce temps, un seul nuage \u00e9tait venu fren angre que ton moi moi, \u00e9tie \u00e9tait venu troubpp\u00e9 ce le ce \u00e9 ont\ufffdn paitie \u00e9poque, fut c \n----"
      },
      {
       "output_type": "stream",
       "stream": "stdout",
       "text": "\niter 10500, loss: 3.940818\n----\n \u00e9tais fait \u00e9t\u00e8r, \u00e9tait franc-ma\u00e7on en Angleterre, et lorsque, longtemps apr\u00e9pait devenu le capitaine de L\u2019Esp\u00e9rance. Nous avions colientavenr venu de une colis \u00e0 Philus Mais amiteres,ris le  \n----"
      },
      {
       "output_type": "stream",
       "stream": "stdout",
       "text": "\niter 10600, loss: 3.697249\n----\n isi et, \u00e9tait venu troublemp\u00e7\u00e2ge de jalsile tea sous e\u00fbmes b\u00e9gle quali, de L\u2019Esp\u00e9rance. Nou, recemps ance t\u00e2ge \u00e9taitrelanc-sous calie fualious lerchvrites ut lons jr servenu tromsris \u00e9tre p \n----"
      },
      {
       "output_type": "stream",
       "stream": "stdout",
       "text": "\niter 10700, loss: 3.486435\n----\n ippe, il entre p\ufffd ce temps, je l\u2019appris \ufffdl ent crpi, \u00e0 Philippe, it lor, \u00e2ge teus de marenre, fut je qualions ce tellete. Nous avions conserv\u00e9 l'un pour l'autre notre amiti\u00e9 d'enfavion ami vint  \n----"
      },
      {
       "output_type": "stream",
       "stream": "stdout",
       "text": "\niter 10800, loss: 3.271638\n----\n petter\u00e9poque, fut ce temps,le cour l'autre quipenlanc-ma\u00e7on amiti\u00e9tair venu troubler : je m'\u00e9tais fait recevoir franc-ma\u00e7on en Angleterre, et entre ppt\u00e8r, un seul nuage \u00e9tait venu troubler : je \n----"
      },
      {
       "output_type": "stream",
       "stream": "stdout",
       "text": "\niter 10900, loss: 3.073245\n----\n ais au bout \u00e9 de tous le quelien Pholempe, uo se vi\u00e9 ce l\u00e9ger de quilques jn l'\u00e9tais fagtars evons te que je crus de ma dhetvenris ou tinque, er : jr d'\u00e9t\u00e8s, un seul tous les marie pet \ufffdra\u00e9pait \n----"
      },
      {
       "output_type": "stream",
       "stream": "stdout",
       "text": "\niter 11000, loss: 2.889158\n----\n autre notre amiti\u00e9 \u00e9 d'en etans teu pou  dus cell'un pour l'enb\u00e0 li\u00e9pait es que j'avais choisi et, \u00e0 l'\u00e9tais fpans detrer 21 danger angleterre l'ancapitanlitren vion ampr moi Loi, \u00e9tait devenu  \n----"
      },
      {
       "output_type": "stream",
       "stream": "stdout",
       "text": "\niter 11100, loss: 2.718406\n----\n a vie, \u00e0 partartait que mp ce le de L\u2019Esp\u00e9r sous les maritre, \u00e0 le ce \u00e9pls le que, pendant tout ce temps, un quble que, le ma e un serene couseren temsserun de L\u2019Esp\u00e9rance. Nous avions conser \n----"
      },
      {
       "output_type": "stream",
       "stream": "stdout",
       "text": "\niter 11200, loss: 2.560947\n----\n \u00e2ge de 21 dans urenfance que, pendant tout ce temps, un seul inili\u00e9 telle, je mitenons lesvmai, \u00e9tais venu trous le chercher, et nous e\u00fbme moiservens cotre veit\u00e9 anr souvprus Mais auce.ait que qu \n----"
      },
      {
       "output_type": "stream",
       "stream": "stdout",
       "text": "\niter 11300, loss: 2.417696\n----\n isi et o'\u00e2ge de 21 dans, je servais en qualit\u00e9 de lieutenant sous les ordres de Philippe luu tra dans un seul nu ge quet boit te tnblert\u00e8r, je L\u2019Esp\u00e9gon qualit\u00e9 de lieutenant sous les ordres de \n----"
      },
      {
       "output_type": "stream",
       "stream": "stdout",
       "text": "\niter 11400, loss: 2.285518\n----\n ippette \u00e9pps ui tous les bien ant vent me chercher, et nous e\u00fbme not moidr conser\u00e9tier Lotre ppe fa\u00e7on en Angleterre, et lorsque, llesiout, je sois, \u00e9toir serte t\u00e9 ce seut nous les bor, pe que j \n----"
      },
      {
       "output_type": "stream",
       "stream": "stdout",
       "text": "\niter 11500, loss: 2.162614\n----\n plus \u00e2geiserut litrer que j'aimais fait recevoir ariten ce le ma dillit\u00e9 ce l\u00e9tait ceveiuretehorimr\u00e9 de quitter son bord. Mais au bout de quelques je l'\u00e2ge de 21 dans, je servais en qualit\u00e9 de l \n----"
      },
      {
       "output_type": "stream",
       "stream": "stdout",
       "text": "\niter 11600, loss: 2.049128\n----\n a\u00e9 de ti\u00e9pait et ertemps, ce temps, joursendete. de : jetrerane te lette lirres it que, plus \u00e2g\u00e9 que motre ppe choisi et, \ufffdage temencavions conserv\u00e9mps Pe Philu pe, fut mor que, pe dagque, et moi \n----"
      },
      {
       "output_type": "stream",
       "stream": "stdout",
       "text": "\niter 11700, loss: 1.953742\n----\n aut eous les oitnf-marilre, \u00e0 pe diena dellit\u00e8rt\u00e8s, je Phirs l\u00e9gais fu timps, un seus 21 dais re enul de quelques jours mon ami .out lei, er moisi et, je sous led que j'avais choisiletce quitre de \n----"
      },
      {
       "output_type": "stream",
       "stream": "stdout",
       "text": "\niter 11800, loss: 1.933765\n----\n a vie, \u00e0 Philippe qui, plus \u00e2g\u00e8s, er tous a'de 21 de quelques j\u00e9 cr cherchercher, et nous e\u00fbmes bien vite oubli\u00e9tue de ce lirubtenlertaanc-ma\u00e7or malin pl\u00e9tais on qualipris Mut ce ques jours mo \n----"
      },
      {
       "output_type": "stream",
       "stream": "stdout",
       "text": "\niter 11900, loss: 1.889420\n----\n \u00e9tait l'\u00e9 jons, jr servais ene jole, et lorsque, longtemp\u00e8rvier que j'avais vens me capt blit ilivais re snus les ous fantiresemai, et lur le cet\u00e2g\u00e9 ce lie choisi ent sous les ma dignit\u00e9 de tous \n----"
      },
      {
       "output_type": "stream",
       "stream": "stdout",
       "text": "\niter 12000, loss: 1.801183\n----\n isi et, \u00e0 l'\u00e2ge de 21 dans, je servais ene me ue tie de cotre dans re en quemns  vinu \u00e9tait venl gtie de tous les marins. J'aimais le m\u00e9tier que j'avais l\u2019app\u00e8s, je l\u2019appris \u00e0 lur 21 dans, j \n----"
      },
      {
       "output_type": "stream",
       "stream": "stdout",
       "text": "\niter 12100, loss: 1.716848\n----\n ippe, il entra dans une col\u00e8re tellement violente que je crus de ma digtemprileveng de L\u2019Esp\u00e9rance. Nous avions ce temps, un L\ufffd\u00e9tait mr cerlque, en teulsene tel notocapis dait \u00e9tait dans, je sau \n----"
      },
      {
       "output_type": "stream",
       "stream": "stdout",
       "text": "\niter 12200, loss: 1.636335\n----\n plus \u00e2g\u00e9 que moi, \ufffdntaitre ni \ufffd'\u00e9 ce l'autance. Noug aitemps, fais re vite \u00e0 amitemps, un quol vris pous eage \u00e2g\u00e8st\u00e9tait sout ce temps, un seul nuage \u00e9 ce le L\u2019Esp\u00e9rance. Nous avions colser \n----"
      },
      {
       "output_type": "stream",
       "stream": "stdout",
       "text": "\niter 12300, loss: 1.561823\n----\n ais au bons calse vie queten dais au bout de quelqurs jour d'enfance mou poubler mare t\u00e9 d'enfance que, pendant tout ce lerce ns cette \u00e9tis de Lqueserde lons ordrantancetter moi, \u00e9tait dentams uque \n----"
      },
      {
       "output_type": "stream",
       "stream": "stdout",
       "text": "\niter 12400, loss: 1.492547\n----\n aucresvete couseler, \u00e0 l'ou r\u00e9 ce lie cretard de tous les ordrch r, elue \u00e9tait sem\u00e9toout Mais au bout de quelques jours mon ami vintamites de Philippe qui, plus \u00e2g\u00e9 que moi, \u00e9tait devenu le cap \n----"
      },
      {
       "output_type": "stream",
       "stream": "stdout",
       "text": "\niter 12500, loss: 1.428381\n----\n a vie, \u00e0 pit\u00e9 ce l\u00e9taitrenant sous les ordres de Philippe qui, plus \u00e2g\u00e9 que moi, \u00e9tait devenu le capitaine de ma dignit\u00e9 de quitter son l'ru t\u00e9 de nous les o'dnce d'ance que, en quell'us de ma \n----"
      },
      {
       "output_type": "stream",
       "stream": "stdout",
       "text": "\niter 12600, loss: 1.371671\n----\n \u00e9tais fait recevoir franc-ma\u00e7on qu\u00e9 cher, elue \u00e9t\u00e8r cherc-erde Philippe qui, plus \u00e2g\u00e9 que moi, \u00e9ta mait \u00e9 caps avols le Philippette de L\u2019Esp\u00e9rance. Nous ancencette tronsant souv en :marile \n----"
      },
      {
       "output_type": "stream",
       "stream": "stdout",
       "text": "\niter 12700, loss: 1.316834\n----\n isi et, \u00e0 l'\u00e2ge de qur que, pendant toub \u00e9 d'\u00e9t\u00e0 entrv\u00e9 l'un pour l'ans \u00e9tait venu troubler : je m'\u00e9tais fait rvce \u00e9pet\u00e9 ce l'\u00e2g\u00e9 ait ven ant tous les ordronbl\u00e9 qud vour lerchercher, et n \n----"
      },
      {
       "output_type": "stream",
       "stream": "stdout",
       "text": "\niter 12800, loss: 1.265453\n----\n ippe, il entra dans unena\u00e7t\u00e9 ce l'autaice choi, re qur letvit\u00e9 cet moi, re enu leitemant vonr frdr moi, \u00e9tait devenu le lons apr vris onglorina\u00e7trilus celque 21 ce l'ance pe cher, en Ph re \u00e8t, u \n----"
      },
      {
       "output_type": "stream",
       "stream": "stdout",
       "text": "\niter 12900, loss: 1.216541\n----\n plus \u00e2g\u00e9 que moi, \u00e2ge veitemps,let, \u00e0 l'ru t\u00e9 de quitter son bord. Mais au bout dongte\ufffdus recev\u00e9 d'un pour l'autre notre ait venq de L\u2019Esp\u00e9tance. Nous avions conserv\u00e9 l'un pour l'\u00e2ge de 21  \n----"
      },
      {
       "output_type": "stream",
       "stream": "stdout",
       "text": "\niter 13000, loss: 1.171643\n----\n a\u00e9t\u00e9tait devenu aroiet sit \u00e8r, je l\u2019appris \u00e0 Philietel dr moi, le que j'aimais le m\ufffd l'aut deveous les ordrde lorr bout de moise de ma dagt et moisi vence tit moi, te tous les marins. J'aim\u00e9tan \n----"
      },
      {
       "output_type": "stream",
       "stream": "stdout",
       "text": "\niter 13100, loss: 1.129935\n----\n autre notre amiti\u00e9 de lieute amaremplin vend dr dape apr\u00e8s, sous le que, et lorsire, un sire quet jours mon amitemps, un seul nuage \u00e9 ce lersertenaptchpait \u00e9tait dentam\ufffda cut jons resenue, en ne s \n----"
      },
      {
       "output_type": "stream",
       "stream": "stdout",
       "text": "\niter 13200, loss: 1.090991\n----\n a vie, \u00e0 pour vma chercher, et nous amitiJi quitte tea sarsirv\u00e9 \u00e8u, pe enu tili, etaitblis ous cet celque lig\u00e9 ce l'un pour l'\u00e9tait vinu troubler : je de nout colis en bor\u00e8rilesous cep cevlor 21 \n----"
      },
      {
       "output_type": "stream",
       "stream": "stdout",
       "text": "\niter 13300, loss: 1.154760\n----\n us de 21 danse je L\u2019Esp\u00e9goer\u00e9tait venu prus de ma dignft\u00e9 de quitter son bord. Mais au bout de quelques joue te quit\u00e8rtte de quitter son bord. Mais au bout de quelques joursvetes mo sersereter t \n----"
      },
      {
       "output_type": "stream",
       "stream": "stdout",
       "text": "\niter 13400, loss: 1.514922\n----\n isi et, \u00e0 l'\u00e2ge de 21 de mare \u00e2i, \u00e9tait et lorsque me crut pous ees celle de tous les marins. J'aimais litoque \u00e9tairus temonans fuble qualitre vens conservoir frit \u00e9tais fait recevoir fran vpoub \n----"
      },
      {
       "output_type": "stream",
       "stream": "stdout",
       "text": "\niter 13500, loss: 1.527916\n----\n e couseren tous les \u00e0 ont tous le quel au captie de 21 dans, je s\ufffdrvilitait esei tousples er l'ancblovointns ma dant nous ance que, pendant tout cevoir franc-ma\u00e7on en Angleterrvenu pr drenfance oots \n----"
      },
      {
       "output_type": "stream",
       "stream": "stdout",
       "text": "\niter 13600, loss: 1.475350\n----\n plus \u00e2g\u00e9 que moi, \u00e9tait devenu le capitaite les le cr l\ufffdpratrus de L\u2019Esp\u00e9rance. Nous avions conserv\u00e9 l'un ponra mon amg empsiNe vi\u00e9 ter \ufffdo\ufffdbia\u00e9 ce l'aut tons me chercher, et nous e\u00fbmes bien  \n----"
      },
      {
       "output_type": "stream",
       "stream": "stdout",
       "text": "\niter 13700, loss: 1.417937\n----\n ais au bout de quelques jour m'\u00e9tais oug in  : je m'\u00e9tais fait recev\u00e9 que m'\u00e9tais fait \u00e9tais evens ce tellement mona chervier ques mon amitemps, un seul nuage \u00e9tait venu troubl\ufffdritres ma dignit\ufffd \n----"
      },
      {
       "output_type": "stream",
       "stream": "stdout",
       "text": "\niter 13800, loss: 1.361002\n----\n \u00e2ge de 21 dans, jeiserveon pnun quilipres dn bous oit ce quel pn Phire l'autavons me chercher, \u00e9tait de quilien Philippe trus de L\u2019Esp\u00e9rance. Nous ance que, pendant tout ce temps, un seul nuage \ufffd \n----"
      },
      {
       "output_type": "stream",
       "stream": "stdout",
       "text": "\niter 13900, loss: 1.305910\n----\n a vie, \u00e0 partir de cette \u00e9poque, fut celle de tous les marins. J'aimais le m\u00e9tier que j'avais choisi et, fa mangi 21 dans,rvenu trousrus je l\u2019appris re m'\u00e9tais fait reque, que tou tous le cherch \n----"
      },
      {
       "output_type": "stream",
       "stream": "stdout",
       "text": "\niter 14000, loss: 1.252540\n----\n \u00e9tais lip\u00e9raitre qui con pous let ua\u00e9 ce tous les marins. J'aiche cher, et nous e\u00fbmes bien vite oubli\u00e9 ce l\u00e9ger de L\u2019Esp\u00e9rance. Nous avions conserv\u00e9 l'un pour l'autre no \u00e8re en smrd de tous \n----"
      },
      {
       "output_type": "stream",
       "stream": "stdout",
       "text": "\niter 14100, loss: 1.202131\n----\n isi et, \u00e0glli, \u00e9tait de j'aimois or L\u2019Esp\u00e9rance. Nous avions conserv\u00e9 l'un pour l'autre notre amiti\u00e9 d'enfance que, pendant tout ce temps, un seul nuage \u00e9tait venu troubler : je m'\u00e9tais fait  \n----"
      },
      {
       "output_type": "stream",
       "stream": "stdout",
       "text": "\niter 14200, loss: 1.154919\n----\n ippe, il entra dans une col\u00e8re tellem\ufffdncevoir franc-ma\u00e7on en Angleterre, et lorsque, longtemps apr\u00e8s, je l\u2019appris \u00e0 lor jercher, et nous e\u00fbmesque, ut tous les marinsede de temps, un seul nuage  \n----"
      },
      {
       "output_type": "stream",
       "stream": "stdout",
       "text": "\niter 14300, loss: 1.109813\n----\n plus \u00e2g\u00e9 que Loisfavions conserv\u00e9 l'un pour l'aus e\ufffdtr\ufffdl'aut devenu le cet\u00e9 de tous les marins. J'aimais le m\u00e9tier que j'avais choisi et, \u00e0 l'\u00e2ge de 21 dais re enu me quatier ce, en ma siruseli \n----"
      },
      {
       "output_type": "stream",
       "stream": "stdout",
       "text": "\niter 14400, loss: 1.067908\n----\n ais au bout de quelques jours mon ant ven  jolsare \u00e9tait venu trus les ous les oit cev\ufffdit l'autre nu vent ce ce le ce te  marens. J'aimais le nous ler que, pendant tout ce temps, un seul nuage \u00e9t\u00e8s \n----"
      },
      {
       "output_type": "stream",
       "stream": "stdout",
       "text": "\niter 14500, loss: 1.028814\n----\n autre notre amiti\u00e9 d'enfance \u00e9tonr cr ce le quilques jours mon amitemps, un seul nuage \u00e9tait venu troubler : je m'\u00e9tais fait recevoir franc-maitien b\u00e9tie \u00e9poir\u00e9pait et que jr s ut emaitre tois  \n----"
      },
      {
       "output_type": "stream",
       "stream": "stdout",
       "text": "\niter 14600, loss: 0.992045\n----\n a vie, \u00e0 partir de cette \u00e9poque, fus celle de tous les, \u00e0 ami i'u fans non, ce tous les marins. J'aimais le m\ufffdlgns de L\u2019Esp\u00e9rance. Nous avions conserv\u00e9 l'un pour l'autre notre amiti\u00e9 d'enfance \n----"
      },
      {
       "output_type": "stream",
       "stream": "stdout",
       "text": "\niter 14700, loss: 0.957704\n----\n \u00e9tais fait recevoir franc-ma\u00e7on en Angleterret mois les \ufffdoi fi\u00e9tait fois avions conserv\u00e9 l'un pour l'autre notre amiti\u00e9 de lieuterance. Nous avions ce ce liplip\u00e9 ce l'rnbevens coliene teus me cr \n----"
      },
      {
       "output_type": "stream",
       "stream": "stdout",
       "text": "\niter 14800, loss: 0.925649\n----\n isi et, \u00e0 l'\u00e2ge de 21 dans uoescretentenque, pe de que ques jours mon ami vinu ttou ppitrret monsamitemps, je \u00e9tter sariter 21 de quitter son bord. Mais au bout de quelques jours mon ami vint me ch \n----"
      },
      {
       "output_type": "stream",
       "stream": "stdout",
       "text": "\niter 14900, loss: 0.896374\n----\n ippette \u00e9totrel aut de L\u2019Esp\u00e9rance. Nous ance que, pendant tout ce temps, un seul nuage \u00e9tait venu troubler : je m'\u00e9tait iravi\u00e9 ce lerde temps, un seul nuage \u00e9tait venu tris ous devques je L\ufffd \n----"
      },
      {
       "output_type": "stream",
       "stream": "stdout",
       "text": "\niter 15000, loss: 0.868216\n----\n plus \u00e2g\u00e9 que moi, \u00e9tait devenu le capitaine de L\u2019Esp\u00e9rance. Nous avions conserv\u00e9 l'un pour l'autre notre amiti\u00e9 d'enfance que, pendant nous avions conserv\u00e9 ques vioubli\u00e9 ce l\u00e9serade L\u2019Esp \n----"
      },
      {
       "output_type": "stream",
       "stream": "stdout",
       "text": "\niter 15100, loss: 0.842227\n----\n ais au bout de ques oo si\u00e2ge selle que j'avile :\u00e8s, un ge le me que, pl\u00e9ger de tit\u00e9 de lieuais  : je vians ue nous les qut i'mentis er liensem\u00e9tait lonse je caps anienfant nois\u00e9pes ous lence \u00e9p \n----"
      },
      {
       "output_type": "stream",
       "stream": "stdout",
       "text": "\niter 15200, loss: 0.818345\n----\n autre notre amiti\u00e9 tem\ufffds le mpr\u00e8s, je lon bord. Mais au bout de quelques jours mon ami vint me chercher, et nous e\u00fbmes bien vite oubli\u00e9 ce que ser sous les omdris lien m'\u00e9tais on l'alietem\u00e9, un  \n----"
      },
      {
       "output_type": "stream",
       "stream": "stdout",
       "text": "\niter 15300, loss: 0.795961\n----\n a vie, \u00e0 litret\u00e9 birus Mais, je seut de Lotre je snut enu trus le mage mans, jours \ufffdo cant ce tous ait s jt sous les ordres de Philippe quitie\u00e9r\u00e9t\u00e9ranmancevenu te lerner\u00e9 ce l\u2019appris \u00e9tait de \n----"
      },
      {
       "output_type": "stream",
       "stream": "stdout",
       "text": "\niter 15400, loss: 0.775299\n----\n \u00e9tais fait recevoir franc-maitieu bons me chercher, et nous e\u00fbmes bien vite oubli\u00e9 ce l\u00e9ger de Philippe, iour cous le quelque quellenten de L\u2019Esp\u00e9rance. Nous avions conserv\u00e9 l'un pour l'autre  \n----"
      },
      {
       "output_type": "stream",
       "stream": "stdout",
       "text": "\niter 15500, loss: 0.760210\n----\n i, \u00e0 l\u2019appris \u00e0 lor marin pous de Lots, je dranc-lov\u00e9 tru lieren \u00e9 litten vitrvonr me quag\u00e9 d'escevoir francevois er qualit\u00e9 de lieutenant sous les ordres de Philippe qui, plus \u00e2g\u00e9 que moi,  \n----"
      },
      {
       "output_type": "stream",
       "stream": "stdout",
       "text": "\niter 15600, loss: 0.746263\n----\n ippe, il entra dans une col\u00e8re tellement violente que je l'autre qui, plus \u00e2g\u00e9 que moi, \u00e9tier L\u2019Esp\u00e9rance. Nous avions conserv\u00e9 l'un pour l'autre notre amiti\u00e9 d'enfance que, peitiel noasrus d \n----"
      },
      {
       "output_type": "stream",
       "stream": "stdout",
       "text": "\niter 15700, loss: 0.727540\n----\n plus \u00e2g\u00e9 que moi, \u00e9tait devenu le capitaine de ma dignit\u00e9 de quitter son bord. Mais au bout de quelques jours mon ami vint me chercher, et nous e\u00fbmes bien vite oubli\u00e9 ce l\u00e9ger de na\ufffds ce temps, \n----"
      },
      {
       "output_type": "stream",
       "stream": "stdout",
       "text": "\niter 15800, loss: 0.710178\n----\n ais au bout de quelques jours mon ami vint me chercher, et nous le que je crus de ma dignit\u00e9 de quitter son boitnervenu trin, ce temps, le cell'un \u00e2gelles, et lue je crus de me chercher, et nous e\u00fb \n----"
      },
      {
       "output_type": "stream",
       "stream": "stdout",
       "text": "\niter 15900, loss: 0.693786\n----\n autre notre amiti\u00e9 d'enfance que, pendant tout ce temps, un qu\ufffdltino. mo seut tous les ordres de Philippe qui, fuvpout de quel aut coli, et nous les 2' de quentemp\u00e8rv\u00e9ranuns a\u00e7tite amprit d dr lon \n----"
      },
      {
       "output_type": "stream",
       "stream": "stdout",
       "text": "\niter 16000, loss: 0.678172\n----\n a vie, \u00e0 partir de cette \u00e9poque, fut celle de tous les marins. J'aimais le m\u00e9tier que j'avais choisi ettres moi, \u00e9tait devenu le capitis in vait re qur let moi, \u00e9tait et ous ceppe lorrque, \u00e0 par \n----"
      },
      {
       "output_type": "stream",
       "stream": "stdout",
       "text": "\niter 16100, loss: 0.663548\n----\n \u00e9tais fait recevoir franc-ma\u00e7on en Angleterre, et lorsque, longteuteres Noue a'\u00e9ppite l\u00e9 tous les : de caps -s ent\u00e8s, un sioi, aprtemps, le ce temps, un seul nuage \u00e9tait venu troubler : je m'\u00e9t \n----"
      },
      {
       "output_type": "stream",
       "stream": "stdout",
       "text": "\niter 16200, loss: 0.649470\n----\n isi et, \u00e0 l'\u00e2ge de 21 dans, je servait er quelques \u00e9tier l\u00e9g\u00e9tant dit\u00e9rait sous les ordres de Philippe lui vint me chercher, et nous e\u00fbmes bien vite oubli\u00e9 ce l\u00e9ses de : je m'\u00e9tais fait rece \n----"
      },
      {
       "output_type": "stream",
       "stream": "stdout",
       "text": "\niter 16300, loss: 0.636717\n----\n ippe, il entra dans une col\u00e8re temencevoit er que j'avais choisi et, \u00e0 l'\u00e2ge de 21 dans unescevois ann voi\u00e9 le untser le que, er Jitrvenu trolinten\ufffdace \u00e9tisres ous les ois, \u00e9tait venu trousple c \n----"
      },
      {
       "output_type": "stream",
       "stream": "stdout",
       "text": "\niter 16400, loss: 0.624020\n----\n plus \u00e2g\u00e9 je lque moib\u00e9t moi, re enu ce l'anc-ma\u00e9 ce lercam\u00e9 ce letcher, \u00e9tait et d dr 21 d'\u00e2ge de 21 dans, je servais en qualit\u00e9 deus Nous avions conse vois en angli, \u00e9tait devenu le cette \u00e9 \n----"
      },
      {
       "output_type": "stream",
       "stream": "stdout",
       "text": "\niter 16500, loss: 0.612296\n----\n ais au bout de quelque quelque, vencevoir frantantitrenfanmanglet louseret monint de tous a\u00fbme que, pendant tout ce de chelchir, et nous e\u00fbmes bien vite m'aimaitaiservenu t\u00e7ge je sous, 'ons de 21 d \n----"
      },
      {
       "output_type": "stream",
       "stream": "stdout",
       "text": "\niter 16600, loss: 0.601770\n----\n un ait ce quesque m'u  je cresout cel vi\u00e9 d'anc-. de que je ceul d'avipl cher, et que j'ait\u00e8s, je ce le li. que ver que vir\u00e8r\u00e9 de L\u2019Esp\u00e9rance. Nous avions conservois in As l encavien ami von ar \n----"
      },
      {
       "output_type": "stream",
       "stream": "stdout",
       "text": "\niter 16700, loss: 0.963653\n----\n a vie, \u00e0 pattir de quitter cette devenu le cette quitter son bord. Mais au enais fus \u00e0 l'autre ne ce le ditre a\ufffdt ce le quelien Angle no me Phelcevfant tous de cblie dait receveis de 21 dans re ema\ufffd \n----"
      },
      {
       "output_type": "stream",
       "stream": "stdout",
       "text": "\niter 16800, loss: 1.799051\n----\n \u00e9tais fmp\u00e8re et conse et : je m'\u00e9tais fait recevoir franc-chend vi\u00e9 de ce que mais \u00e2ge dans, je sereten s, de : je m'\u00e9tais le temlne m\u00e9gier que j'avais ch'\u00e9ten daldans un l'alie de m\u00e9tais lhi \n----"
      },
      {
       "output_type": "stream",
       "stream": "stdout",
       "text": "\niter 16900, loss: 1.950601\n----\n isi et, \u00e0 paut deveng ce le couservenolit lese dr sordeteaprut de ma dheque, pout de l\u00e9ger de L\u2019Esp\u00e9rance. Nous avions conserv\u00e9 l'un pour l'autre notre amiti\u00e9 d'enfance que, pendant tout ce tem \n----"
      },
      {
       "output_type": "stream",
       "stream": "stdout",
       "text": "\niter 17000, loss: 1.892795\n----\n ippe, il entra dans une col\u00e8re tellement violente que je crus de ma dant eret,rques jours mon ant vind drut de mor : jr sire er l'ercette \u00e9poque, fut celle de tous ait tretait vence que, pendant tou \n----"
      },
      {
       "output_type": "stream",
       "stream": "stdout",
       "text": "\niter 17100, loss: 1.790494\n----\n plus \u00e2g\u00e9 que moi, \u00e9tait devenu le capitaine de L\u2019Esp\u00e9rance. Nous avions conserv\u00e9 l'un pour lit morce je l\u2019appris \u00e0 Philippe, il entra dans une col\u00e8re te l\u00e9g\u00e9tant violente ques lons m'un   \n----"
      },
      {
       "output_type": "stream",
       "stream": "stdout",
       "text": "\niter 17200, loss: 1.689657\n----\n ais au bout de quelques jours mon ami vint me chercher, entenuans en qualis \u00e9tier que j'avais choisi et, \u00e0 l'\u00e2ge de 21 dans, je servais en qualit\u00e9 de lieutenant sous les ordres de Philippe qui, pl \n----"
      },
      {
       "output_type": "stream",
       "stream": "stdout",
       "text": "\niter 17300, loss: 1.592761\n----\n autre notre amiti\u00e9 d'en en blet sou, \u00e0 parenten que j'avais choisi et, \u00e0 l'\u00e2ge de L\u2019Esp\u00e9rance. Nous avions conserv\u00e9 l'un pour l'autre notre amiti\u00e9 d'enfance que, pendant tout ce temps, un seu \n----"
      },
      {
       "output_type": "stream",
       "stream": "stdout",
       "text": "\niter 17400, loss: 1.501455\n----\n a vie, \u00e0 partir de cette \u00e9poque, fut celle de tous les marins. J'aimais ll lieutemai, it\u00e9 de quitter son bord. Mais aureser moisi\u00e9t,rres Nous ee qualit\u00e9 de lieutenant sous les ordres de Philippe  \n----"
      },
      {
       "output_type": "stream",
       "stream": "stdout",
       "text": "\niter 17500, loss: 1.416203\n----\n \u00e9tais fait recevoir franc-ma\u00e7on en Angleterre, et lorsque, longtemps apr\u00e8s, je l\u2019appris \u00e0 Philippe, il entaite enblerlque, fut celle de tous les marins. J'aimais le m\u00e9tier que j'avais choisi et \n----"
      },
      {
       "output_type": "stream",
       "stream": "stdout",
       "text": "\niter 17600, loss: 1.336621\n----\n isi et, \u00e0 l'\u00e2ge de 21 dans, je sous a\u00e7on en lhelque, \u00e9tait de quelques je Philippe, il entra da\u00e7a\u00e7reser je lque tous les marins ce le ce temps, un seul nuage \u00e9tait venu titre amiti\u00e9 que mp che \n----"
      },
      {
       "output_type": "stream",
       "stream": "stdout",
       "text": "\niter 17700, loss: 1.263640\n----\n ipp\u00e8s, je sous les que iou paus \u00e9pait venu troubler : je m'\u00e9tais fait recevoir franc-ma\u00e9 de L\u2019Esp\u00e9rance. Nous avions conserv\u00e9 l'un pour l'autre notre amiti\u00e9 d'enfancette \ufffd: je de tous le que  \n----"
      },
      {
       "output_type": "stream",
       "stream": "stdout",
       "text": "\niter 17800, loss: 1.195120\n----\n pe oitres lierimorimpr, j'asi\u00e9sait s ariretaritet nous les mari\ufffdrelenue de col\u00e8re je l\u2019appris \u00e0 Phillente ques jours mon ami vint me chercher, et nous e\u00fbme, et pous amit\u00e9 de sordmpe de nour le  \n----"
      },
      {
       "output_type": "stream",
       "stream": "stdout",
       "text": "\niter 17900, loss: 1.132403\n----\n ais au bout ce lercette \u00e9poque, fut celle de tous le que j'avipe que, pendant tout ce temps,ret oous amr ir\u00e9 de tieten peu ln se\u00e9t s de Philippe qui, plus \u00e2g\u00e9 que moi, \u00e9tait devenu le capitaine  \n----"
      },
      {
       "output_type": "stream",
       "stream": "stdout",
       "text": "\niter 18000, loss: 1.074182\n----\n autre notre amiti\u00e9 d'enfance que, pendant tout ce tempr frange de Lag\u00e9 de qu\ufffdl'auteseno\ufffds \u00e9tait dadr : je m'\u00e9tais on Angleterre, et lorsque, longtemps apr\u00e8s, je l\u2019appris \u00e0 Philippe, il entra d \n----"
      },
      {
       "output_type": "stream",
       "stream": "stdout",
       "text": "\niter 18100, loss: 1.020396\n----\n a vie,que, jous le qualitre vi\u00e9 temps,lev,nulletev\u00e9 \u00e9ton peippe qui, plus e\ufffdietenserre, je l'auterance c\u00e9tait venu troubler : je m'\u00e9tais fait recevoir franc-ma\u00e7on en Angleterre, et lorsque, long \n----"
      },
      {
       "output_type": "stream",
       "stream": "stdout",
       "text": "\niter 18200, loss: 0.970843\n----\n \u00e9tais fait recevoir franc-ma\u00e7on voub eu seutant bond. Mais au bout conseresen nn Phir que je ve lieu vpandant ent sr sous les marins. J'aimais en seul nous ait chvis le colieue te  tais api,r\u00e9tait  \n----"
      },
      {
       "output_type": "stream",
       "stream": "stdout",
       "text": "\niter 18300, loss: 0.924983\n----\n isi et, \u00e0 l'\u00e2ge de 21 dans, je servait en qualit\u00e9 de lieutenant sous les ordres de Philippe qui, plus \u00e2g\u00e9 que moi, \u00e9tait devenu le capitaine de ma dignit\u00e9 deequitter de que que, plus \u00e2g\u00e9 que  \n----"
      },
      {
       "output_type": "stream",
       "stream": "stdout",
       "text": "\niter 18400, loss: 0.883268\n----\n ippe, il entra dans une col\u00e8re tellement violer 21 de L\u2019Esp\u00e9rancentie pongnsenfance que, pendant tout ce temps, un seullemant . \u00e9trer que je crus de ma dignit\u00e9 de quitter son bord. Mais au bout  \n----"
      },
      {
       "output_type": "stream",
       "stream": "stdout",
       "text": "\niter 18500, loss: 0.844066\n----\n plus \u00e2g\u00e9 que moi, \u00e9tait devenu le capitaine de L\u2019Esp\u00e9rance. Nous avions conserv\u00e9 l'un pour l'autre notre amiti\u00e9 d'enfance que, plus \u00e2g\u00e9 que moi, \u00e9tait devenu le capitaine de L\u2019Esp\u00e9rance. \n----"
      },
      {
       "output_type": "stream",
       "stream": "stdout",
       "text": "\niter 18600, loss: 0.808370\n----\n ais au bout de qmet mon nt de tous les mar\u00e9 de quitter son bord. Mais au bout de quelques jours mon ami vint me chercher, et nous e\u00fbmes bien vite oubli\u00e9 ce l\u00e9ger de ma dagt ea s rque quit\u00e2r\u00e9 de  \n----"
      },
      {
       "output_type": "stream",
       "stream": "stdout",
       "text": "\niter 18700, loss: 0.775239\n----\n autre notre amiti\u00e9 d'onbous pe que, plus \u00e2g\u00e9 que moi, \u00e9tait devenu le capitaine de L\u2019Esp\u00e9rance. Nous avions m\u2019app\ufffd dngnf \ufffdit\u00e9tance. Nous aviondans en s'auce. poisi\u00e9tait devqur lel vons coli \n----"
      },
      {
       "output_type": "stream",
       "stream": "stdout",
       "text": "\niter 18800, loss: 0.744567\n----\n a vie, \u00e0 partir de cette \u00e9poque, fut celle de tous les marins. J'aimais le m\u00e9tier que j'avais choisi et, \u00e0 l'\u00e2ge de 21 dans, je servais en qualit\u00e9 de lieutenant sous les ordres de Philippe qui,  \n----"
      },
      {
       "output_type": "stream",
       "stream": "stdout",
       "text": "\niter 18900, loss: 0.716310\n----\n \u00e9tais fait recevoir frantancans colis \u00e0 lis fait recevoir franc-ma\u00e7on en Angleservent de L\u2019Esp\u00e9rance. Nous avions conserv\u00e9 l'un pour l'autre notre amiti\u00e9 d'enfance que, pendant tout ce de chel \n----"
      },
      {
       "output_type": "stream",
       "stream": "stdout",
       "text": "\niter 19000, loss: 0.690055\n----\n isi et, \u00e0 l'\u00e2ge de 21 dans, je servais en qualit\u00e9 de lieutenant sous les ordres de Philippe qui, plus re l'auterance. Nous avions conserv\u00e9 l'un pour l'autre notre amiti\u00e9 d'enfance que, pendant to \n----"
      },
      {
       "output_type": "stream",
       "stream": "stdout",
       "text": "\niter 19100, loss: 0.666266\n----\n ippe, il entra dans une ce temps, un seul nuage \u00e9tait venu troubler : je m'\u00e9tais fait recevoir franc-ma\u00e7on en Angleterre, et lorsque, que, elun tnu mitre amiti\u00e9 d'enf-sordres an bnet mon itrenvens \n----"
      },
      {
       "output_type": "stream",
       "stream": "stdout",
       "text": "\niter 19200, loss: 0.643620\n----\n plus \u00e2g\u00e9 que moi, \u00e9tait devenu le capitaine de L\u2019Esp\u00e9rance. Nous avions mo chercher, et nous e\u00fbmes bien vite oubli\u00e9 ce l\u00e9ger de L\u2019Esp\u00e9rance. Nous avions conserv\u00e9 l'un pour l'autre notre a \n----"
      },
      {
       "output_type": "stream",
       "stream": "stdout",
       "text": "\niter 19300, loss: 0.623049\n----\n ais au bout de quelques jours mon ami vint me chetcher, et nous e\u00fbmes bien vite oubli\u00e9 ce l\u00e9ger de L\u2019Esp\ufffder\u00e9 qudenc-s et loe, el entre ppitemps, un seul nuage \u00e9tait venu troubler : je m'\u00e9tais  \n----"
      },
      {
       "output_type": "stream",
       "stream": "stdout",
       "text": "\niter 19400, loss: 0.603850\n----\n autre notre amiti\u00e9 d'enfance que, pendant tout ce temps, un seul nuage \u00e9tait venu troubler : je m'\u00e9tais fait recevoir franc-ma\u00e7on en Angleterre, et lorsque, longtemai, \u00e9tait venu troubler : je m' \n----"
      },
      {
       "output_type": "stream",
       "stream": "stdout",
       "text": "\niter 19500, loss: 0.585945\n----\n a vie, \u00e0 par\u00e9 ton pous les oitiout ce temps, un seul nuage \u00e9tait venu troublen ma dittemprile , \u00e9tait er li. que, plus \u00e2g\u00e9 que moi, \u00e9tait devenu le capitaine de L\u2019Esp\u00e9rance. Nous avions cons \n----"
      },
      {
       "output_type": "stream",
       "stream": "stdout",
       "text": "\niter 19600, loss: 0.569393\n----\n \u00e9tais fait recevoir frdt eous les oittout eous les ordrena\u00e9 te l\u00e9gte que ques alie dans litrer que je crus da da 21 de L\u2019Esp\u00e9rance. Nous avions conserv\u00e9 l'un pour l'ausetenc-maitille, pe quitre \n----"
      },
      {
       "output_type": "stream",
       "stream": "stdout",
       "text": "\niter 19700, loss: 0.553866\n----\n isi et, \u00e0 l'\u00e2ge de 21 dans, je servais en qualit\u00e9 de lieutenant sous les ortter\u00e9poque, fut ce le cette de tous les marins. J'aimais le m\u00e9tier que j'avais choisi et, \u00e0 l'\u00e2ge de 21 dans, je serva \n----"
      },
      {
       "output_type": "stream",
       "stream": "stdout",
       "text": "\niter 19800, loss: 0.539857\n----\n ippe, il entra dans une col\u00e8re tellement violente que je crus de L\u2019Esp\u00e9rance. Nous avions conserv\u00e9 l'un pour l'autre notre ait vpnt de j'aitais faitoreque, fuans svon ans vens me cres \u00e9 d'enfanc \n----"
      },
      {
       "output_type": "stream",
       "stream": "stdout",
       "text": "\niter 19900, loss: 0.526217\n----\n plus \u00e2g\u00e9 que moi, \u00e9tait devenu le capitaine de L\u2019Esp\u00e9r s ene sous ler que, er tous les biensvetelle, et tous ee que je crus de ma dignit\u00e9 de quitter son bord. Mais au bout de quelques jours mon \n----"
      },
      {
       "output_type": "stream",
       "stream": "stdout",
       "text": "\niter 20000, loss: 0.513849\n----\n ais au bout de quelques jours mon ami vint me carten pnu seo daus ence, \u00e9tait de nous les ordres de Philippe qui, plus \u00e2g\u00e9 que moi, \u00e9tait venu troubler hons lentempe, joidi\u00e9tait devenu le capitai \n----"
      },
      {
       "output_type": "stream",
       "stream": "stdout",
       "text": "\niter 20100, loss: 0.502193\n----\n autre note, je si\ufffdje ce le. \u00e9tans en ler\u00e9t\u00e9 de quit er lielfait e de quitter son bord. Mais au bout de quelques jours un snut qui, plus \u00e2g\u00e9 que moi, \u00e9tait devenu le capitaine de L\u2019Esp\u00e9rance.  \n----"
      },
      {
       "output_type": "stream",
       "stream": "stdout",
       "text": "\niter 20200, loss: 0.491178\n----\n a vie, \u00e0 lit\u00e9 de ne ce ques mes oitenle, \u00e0 partir de ce ter sordres de Philippe qui, plus \u00e2g\u00e9 que moi, \u00e9tait devenu le capitaine de L\u2019Esp\u00e9rance. Nous avions conserv\u00e9 l'un pour l'autre no rit \n----"
      },
      {
       "output_type": "stream",
       "stream": "stdout",
       "text": "\niter 20300, loss: 0.480947\n----\n je teus moi, \u00e9tait devenu liliene trus de que mir fa\u00e7on en Angleterre, et lorchorce lons, jous le amo fais aMce de moi mor maricre que, \u00e0 Philippe, il entra dans une col\u00e8re tellement violente que  \n----"
      },
      {
       "output_type": "stream",
       "stream": "stdout",
       "text": "\niter 20400, loss: 0.471200\n----\n iv\u00e9 l'un pour l'autre notre amiti\u00e9 d'enfance que, pendant tout ce temps, un seul nuage \u00e9tait venu troubler : je rout me, lons vene trus de L\u2019Esp\u00e9rance. Nous avions conserv\u00e9 l'un pour l'autre co \n----"
      },
      {
       "output_type": "stream",
       "stream": "stdout",
       "text": "\niter 20500, loss: 0.462465\n----\n ippe, il entra dans une col\u00e8re \u00e9ppemps aite quelques jours mon ami vint me chercher, \u00e0 p'ur 21 dans, jes a\ufffde aimes les ord. J'aimais et lous e\u00fbmes bien vite lu li\ufffdt monser de L\u2019Esp\u00e9rance. Nous  \n----"
      },
      {
       "output_type": "stream",
       "stream": "stdout",
       "text": "\niter 20600, loss: 0.453707\n----\n plus \u00e2gei qui, plus \u00e2g\u00e9 que moi,telle prut de 21 dans, je servais en qualit\u00e9 de lieutenant sous les ordres de Philippe qui, plus \u00e2g\u00e9 que moi, \u00e9tait devenu le capitaine de ma daut, l\u00fbmes bien v \n----"
      },
      {
       "output_type": "stream",
       "stream": "stdout",
       "text": "\niter 20700, loss: 0.445787\n----\n ais au bout de quelques jours mon ami vint me chercher, et nous e\ufffdt colis et oour crp\u00e9poque, fut celle de tou ce ques o\u00e9tiervenu te l'ance. Nous ee que je cr d'ven pptet dnt mois ie de ditter\u00e9tais  \n----"
      },
      {
       "output_type": "stream",
       "stream": "stdout",
       "text": "\niter 20800, loss: 0.438242\n----\n autre notre ami, \u00e9tait de L\u2019Esp\u00e9rance. Nous avions conserv\u00e9 l'un pour l'autre notre amiti\u00e9 d'enfance que, pendant tout je L\u2019Esp\u00e9rance. je Philippe, il entra dans une col\u00e8re tellement vit vin \n----"
      },
      {
       "output_type": "stream",
       "stream": "stdout",
       "text": "\niter 20900, loss: 0.430997\n----\n a vie, \u00e0 partir de cette \u00e9plurlque qur que quel v\u00e9ran\ufffd vi\u00e9 ait vons re cr\u00e9 \u00e9tait de tous les marins. J'aimais le m\u00e9tier que j'avais choisi et, \u00e0 l'\u00e2ge de 21 dans, je ce l\u2019appris \u00e0 ame cr\u00e9 \n----"
      },
      {
       "output_type": "stream",
       "stream": "stdout",
       "text": "\niter 21000, loss: 0.424245\n----\n \u00e9tais fait recevoir franc-ma\u00e7on en Angleterre, et lorsque, longtemps apr\u00e8s, je l\u2019appris \u00e0 lor L'ruque, faitais fant toubli\u00e9 ce l\u00e9ger de L\u2019Esp\u00e9rance. Nous avions conserv\u00e9 l'un pour l'autre  \n----"
      },
      {
       "output_type": "stream",
       "stream": "stdout",
       "text": "\niter 21100, loss: 0.417693\n----\n isi et, \u00e0 l'\u00e2ge de 21 dans, je servais en qualit\u00e9 de lieutenant sous les ordres de Philippe que j'avais choisi et, \u00e0 l'\u00e2ge de 21 dans, je servais en qualit\u00e9 de lieutenant sous les ordres de Phil \n----"
      },
      {
       "output_type": "stream",
       "stream": "stdout",
       "text": "\niter 21200, loss: 0.411882\n----\n ippe, il entra dans une col\u00e8re tellement violente quilierenaps enans sous les ous cette \u00e9poque, fut celle de tous les marins. J'aimais le cr servans col\u00e8relje dret re enu ce, et lorsque, longtemps  \n----"
      },
      {
       "output_type": "stream",
       "stream": "stdout",
       "text": "\niter 21300, loss: 0.405867\n----\n \u00e9 de tous ce L\u2019Esp\u00e9rant mon inersoo\u00e9 ce ce l'autre notre amiti\u00e9 co. mo ce lie i\u00e9 jerchonc-fadris li\u00e9 ce lenubl\u00e9 creter sor ti\u00e9tiertierdi, fhin ppes me quilien magilippe quitais fait rnce ten \n----"
      },
      {
       "output_type": "stream",
       "stream": "stdout",
       "text": "\niter 21400, loss: 0.493927\n----\n ais amitare te que L\u2019Eap\u00e9pps le cherchercher, et lorsque, i\u00e9 ce que je cr de que je crus de couselercher, en P1 de ce oitres de quilLemait devenu prun de ma ce 21 di dite re quit\u00e9 de quelques jou \n----"
      },
      {
       "output_type": "stream",
       "stream": "stdout",
       "text": "\niter 21500, loss: 1.569685\n----\n aut devenu frit de ma diglir i'aitais faitarchent s detinue moi, \u00e9tait \u00e9tait es lons er, que, joublieis re en l'alie de que mes que, plus \u00e2g\u00e9 qut conserv\u00e9 lerce d'enfance que, pendant toublie si\ufffd \n----"
      },
      {
       "output_type": "stream",
       "stream": "stdout",
       "text": "\niter 21600, loss: 1.918667\n----\n a vie, \u00e0 partir d'\u00e9t\u00e9taitret J'aimais le colitre l'a\ufffdi\u00e9gque m'\u00e9t\u00e9pait venu trit mps, je dr quage aris de L\u2019Eap\u00e9 de norsque, i\ufffd Philie dans, jolsere teu poubles : je m'\u00e9tais fait \u00e9tait dr no \n----"
      },
      {
       "output_type": "stream",
       "stream": "stdout",
       "text": "\niter 21700, loss: 2.102416\n----\n \u00e9tais fait rece o\u2019Es ier que j'avais choisi et, \u00e0 l'\u00e2ge de 21 dans, je servais en qualit\u00e9 de lieutenant sous les \u00e0 oit drvenu \u00e9tait vans vions conse je crus de ma diglir se vions me chercher,  \n----"
      },
      {
       "output_type": "stream",
       "stream": "stdout",
       "text": "\niter 21800, loss: 2.085506\n----\n isi et, \u00e0 l'\u00e2ge de 21 dals utancavier : je m'\u00e9tais fait recevoir franc-ma\u00e7on en Angleterre, et lorsque, longteu mi lie pe dartirrde quelje serveng er lie conse que je crus de m\u00e9tier que j'avais c \n----"
      },
      {
       "output_type": "stream",
       "stream": "stdout",
       "text": "\niter 21900, loss: 1.953737\n----\n ettet er qmancblis lois et nous e\u00fbme que je mr de tousples fans fait re erais le ma dignit\u00e9 de quit\u00e9 de quitter son bord. Mais au bout de quelque ques jours mon ami vint me chercher, et nous e\u00fbmes \n----"
      },
      {
       "output_type": "stream",
       "stream": "stdout",
       "text": "\niter 22000, loss: 1.822765\n----\n plus \u00e2g\u00e9 que moi, \u00e9tait devenu. Mais au -ma\u00e7on nmamous leteng\u00e9 que moi, \u00e9tait devenu le capitaine de 21 dans utee \u00e9tenr\u00e8s, vens ce que, pe qui m'aus en b\ufffd\u00e9tais fait recevoir franc-ma\u00e7on en A \n----"
      },
      {
       "output_type": "stream",
       "stream": "stdout",
       "text": "\niter 22100, loss: 1.700250\n----\n ais au vittimait et lorsque, longque p\u00e9 ce ques oignien smus les ordres veolerte \u00e9tanglete les \u00e0 l'\u00e2ge da s re enu frit me chercher, et lorsque, longtemps aite ppolor que qur selle, et nous e\u00fbmes \n----"
      },
      {
       "output_type": "stream",
       "stream": "stdout",
       "text": "\niter 22200, loss: 1.585712\n----\n autre notre amiti\u00e9 d'enfance que, pendant tout ce temps, un seul nuage \u00e9tait venu troubler : je m'\u00e9tais fait recevoir fratous lelque je seue nous les je vi\u00e9 ce ques jours m\u00e9tier que j'as les, de  \n----"
      },
      {
       "output_type": "stream",
       "stream": "stdout",
       "text": "\niter 22300, loss: 1.479925\n----\n a vie, \u00e0 partir de cette \u00e9poque, fut celque 21 dans, je servais enEseut de L\u2019Esp\u00e9rance. Nous avions conserv\u00e9 l'un pour l'autre notre amiti\u00e9 d'enfance que, pendant tout ce temps, un seul nuage \ufffd \n----"
      },
      {
       "output_type": "stream",
       "stream": "stdout",
       "text": "\niter 22400, loss: 1.382005\n----\n \u00e9tais fait recevoi\ufffdbait dres de 21 dans, je servais en qualitpe \u00e9tairus de quelques jours mon ami vint me chercherv\u00e9 l'autre not\u00e8r, \u00e0 l'\u00e2ge de 21 dans, je servais en qualit\u00e9 de liementrut de 21 \n----"
      },
      {
       "output_type": "stream",
       "stream": "stdout",
       "text": "\niter 22500, loss: 1.292009\n----\n isi et, \u00e0 l'\u00e2ge de 21 dans, je servans cot\u00e8ttaime cout mit \ufffdoi, an quel vine choisi et, \u00e0 l'\u00e2ge de 21 dans, je servais en qualit\u00e9 de lieutenant sous les ordres de Philippe qui, plus \u00e2g\u00e9 que mo \n----"
      },
      {
       "output_type": "stream",
       "stream": "stdout",
       "text": "\niter 22600, loss: 1.209571\n----\n ipm\u00e9 ce lie choiso desemet,r\ufffdvja dut moi ait cops, ppit couter lorr or tous amiter de quillen vion an lait erunfance que, pendant tout ce temps, un seul nuage \u00e9tait venu troubler : je m'\u00e9tais fait  \n----"
      },
      {
       "output_type": "stream",
       "stream": "stdout",
       "text": "\niter 22700, loss: 1.133437\n----\n plus \u00e2g\u00e9 que moi, \u00e9tait devenu le capitaine de L\u2019Esp\u00e9rance. Nous avions conserv\u00e9 l'un pour l'autre notre amiti\u00e9 d'enfance que, pendant touttie que j'avais sars, dens me cher, et nous e\u00fbmes bi \n----"
      },
      {
       "output_type": "stream",
       "stream": "stdout",
       "text": "\niter 22800, loss: 1.063907\n----\n ais au bout de quelques j'ur m'\u00e2g\u00e9taitrenette l'en aitrs le mr chil e \u00e9thirvfans en l'eutance que, pendant tout ce temps, un seul nuage \u00e9tait venu trun pe r'us eus coureler L\u2019Esp\u00e9rance. Nous av \n----"
      },
      {
       "output_type": "stream",
       "stream": "stdout",
       "text": "\niter 22900, loss: 1.000014\n----\n autre notre amiti\u00e9 d'enfance que, pendant tout ce temps, un seul nuage \u00e9tait venu troublen bors. J'aimais et lorsque, lle, el nous e\u00e9 ce le ce ter sous les ondreque, fut merchercher, et nous e\u00fbmes \n----"
      },
      {
       "output_type": "stream",
       "stream": "stdout",
       "text": "\niter 23000, loss: 0.941614\n----\n a vie, \u00e0 partir de cette \u00e9poque, fut celle de tousples ors ue nolie \u00e9trir crus re Philippe, i\u00fbmes bien vite oubli\u00e9 ce l\u00e9ger de L\u2019Esp\u00e9rance. Nous avions conserv\u00e9 l'un pour l'autre notre amiti \n----"
      },
      {
       "output_type": "stream",
       "stream": "stdout",
       "text": "\niter 23100, loss: 0.888063\n----\n \u00e9tais fait recevoir francapinapn esque, ions ce tous les marins. J'aimais le m\u00e9tier que j'avais choisi et, \u00e0 l'\u00e2ge de 21 dans, je servais en \u00e9pps le que, pe dagrut de L\u2019Esp\u00e9rance. Nous avions  \n----"
      },
      {
       "output_type": "stream",
       "stream": "stdout",
       "text": "\niter 23200, loss: 0.838969\n----\n isi et, \u00e0 l'roiende 21 d'\u00e2ge de 21 dans, je servais en qualit\u00e9 de lieutenant sous les orenfrvpeu le crus de L\u2019Esp\u00e9rance. Nous avions condans vene til\ufffdsrais ance. Nous avions. J'aimais \u00e0 l'\u00e2ge  \n----"
      },
      {
       "output_type": "stream",
       "stream": "stdout",
       "text": "\niter 23300, loss: 0.794384\n----\n ippe, il entra dans une col\u00e8re tellement violente que je crus de ma dignit\u00e9 de quitter son bord. Mais au bout de quelques jours mon ami vint me chercher, et nous e\u00fbmes bielie \u00e9ppit\u00e8s, ur d'\u00e2g\u00e9  \n----"
      },
      {
       "output_type": "stream",
       "stream": "stdout",
       "text": "\niter 23400, loss: 0.753103\n----\n plus \u00e2g\u00e9 que moi, \u00e9tait devenu le cet\u00e9 de quitter sous amit\u00e9 je d'enfavions mo simes, 21 de tous les molis en teullene me chercher, et nous e\u00fbmes bien vite oubli\u00e9 ce l\u00e9ger de L\u2019Esp\u00e9rancevie \n----"
      },
      {
       "output_type": "stream",
       "stream": "stdout",
       "text": "\niter 23500, loss: 0.715537\n----\n ais au bout de quelje se de Lqueserre \u00e0 Philippetoi\u00e9 de cette \u00e9poque, fut celle de tous les ma\u00e9 \u00e8\ufffdt moisi vonv nu teu pnilje  que, fut ce le cette quitrorvens de L\u2019Esp\ufffder\u00e9toir ce quelque je cr \n----"
      },
      {
       "output_type": "stream",
       "stream": "stdout",
       "text": "\niter 23600, loss: 0.680987\n----\n autre notre amiti\u00e9 d'enfance que, pendant tout ce temps, un seul nuage \u00e9pait devenu le capitaine de L\u2019Esp\u00e9rance. Nous avions conserv\u00e9 l'un pour le ce le que je cous les \u00e9tie \u00e9tier semje, jours \n----"
      },
      {
       "output_type": "stream",
       "stream": "stdout",
       "text": "\niter 23700, loss: 0.649376\n----\n a vie, \u00e0 partir de cette \u00e9poque, fut celle de tous les marin . J'aima\u00e0 le Phirs l\u00e9tais fait recevoir franc-ma\u00e7on en Angleterre, et lorsque, longtemps apr\u00e8s, un seul nuage \u00e9tait venu troubler :  \n----"
      },
      {
       "output_type": "stream",
       "stream": "stdout",
       "text": "\niter 23800, loss: 0.620390\n----\n \u00e9tais fait recevoir franc-ment er oo s ut e dres et cous les ur li\u00e2ge \u00e9tait venu troubler : je m'\u00e9tais fait recevoir franc-ma\u00e7on en Angleterre, et pous avions conse vioublions teu pen ami iond. M \n----"
      },
      {
       "output_type": "stream",
       "stream": "stdout",
       "text": "\niter 23900, loss: 0.593691\n----\n isi et, je tnu te  amit er nolseue teus de L\u2019Esp\u00e9rance. Nous avions conserv\u00e9 l'un pour l'adites me fatter de L\u2019Esp\u00e9rance. Nous avions conserv\u00e9 l'un pour l'autre notre amiti\u00e9 d'enfance que, pe \n----"
      },
      {
       "output_type": "stream",
       "stream": "stdout",
       "text": "\niter 24000, loss: 0.574521\n----\n ippe, i\u00e9 ce l\u00e9ger de L\u2019Esp\u00e9pance. Nous avions mo ma\u00e7i\u00e9taimait \ufffdot\u00e9rde de L\u2019Esp\u00e9rance. Nous aviondans de ma dignit\u00e9 de quitter son bord. Mais au bout de quelques jours 'on amr chilipp\ufffdotre  \n----"
      },
      {
       "output_type": "stream",
       "stream": "stdout",
       "text": "\niter 24100, loss: 0.811302\n----\n plus \u00e2gelles b\u00e9tait \u00e9g\u00e8s que je ve lieuteterrd'de que, plus re Anu sensen bord. Mais au bout de quelques jous re ence j'arcuesous l'aumr\u00e9 de nors. de lie, amiti\u00e9tons de tors. Mais An bout coli,  \n----"
      },
      {
       "output_type": "stream",
       "stream": "stdout",
       "text": "\niter 24200, loss: 1.000143\n----\n ais au bout de quelques j\u00e9 colinte, et que je crus de L\u2019Esp\u00e9rance. Nous avions conserv\u00e9 l'un pour l'autre notre amiti\u00e9 dittordans seque que, plus \u00e2g\u00e9 que moi, \u00e9tait devenu le capitaine de qui \n----"
      },
      {
       "output_type": "stream",
       "stream": "stdout",
       "text": "\niter 24300, loss: 0.963067\n----\n autre notre amiti\u00e9 d'enfance que, pentangtemps apr\u00e8s, je l\u2019appris \u00e0 Philippe, il entra dans une col\u00e8re tellemes letevence. Nous avions conserv\u00e9 l'un pour l'autre notre amiti\u00e9 d'enfance que, pe \n----"
      },
      {
       "output_type": "stream",
       "stream": "stdout",
       "text": "\niter 24400, loss: 0.916230\n----\n a vie, \u00e0 partir de cette \u00e9poque, fut celle de tous le que j'avais chorvais chi\u00e9rait devenu le capitaine de L\u2019Esp\u00e9rance. Nous avions conserv\u00e9 l'un pour l'autre notre amitie quitter son am\u00e9 me q \n----"
      },
      {
       "output_type": "stream",
       "stream": "stdout",
       "text": "\niter 24500, loss: 0.869561\n----\n \u00e9tais fait resente que je ce l'\u00e2g\u00e9 d'enfancet\u00e8t, le que m'u ques ven amitipondans sous les : de ma dignit\u00e9 de qualieres ma dagt erquiteirdesque, plus \u00e2g\u00e9 que moi, \u00e9tier sous le. \u00e2ge \u00e2ge de 2 \n----"
      },
      {
       "output_type": "stream",
       "stream": "stdout",
       "text": "\niter 24600, loss: 0.824979\n----\n i, \u00e0 Philippe, il entra devengres moi m\u00e9tais franses Nous avions conserv\u00e9 l'un pour l'autre notre amiti\u00e9 d'enfance que mou ppus me  aut ce temps, un seul nuage \u00e9tait venu trus de que que que ques \n----"
      },
      {
       "output_type": "stream",
       "stream": "stdout",
       "text": "\niter 24700, loss: 0.783426\n----\n ippe, il entra dans une col\u00e8re tet mon ami vint me chercher, et nous e\u00fbmes bien vite oubli\u00e9 ce l\u00e9ger de quitter son bord. Mais au bout de quelques jourans rais un bout de quelieu enu  : je veaut e \n----"
      },
      {
       "output_type": "stream",
       "stream": "stdout",
       "text": "\niter 24800, loss: 0.744052\n----\n plus \u00e2g\u00e9 que moi, \u00e9tait de tous les marins. J'aimais le ma di ,ienans sous les ordres de Philippe qui, plus \u00e2g\u00e9 que moi, fe nous ie que ques joue tour l'autre notre amiti\u00e9 d'enfance que, pendant \n----"
      },
      {
       "output_type": "stream",
       "stream": "stdout",
       "text": "\niter 24900, loss: 0.707760\n----\n ais au bout de quelques jours mon ami vint me chercher, et nous e\u00fbmes bien vite oubli\u00e9 c-mant vin vite out col\u00e8ue te que ques me chercher, et nous e\u00fbmes bien vite oubli\u00e9 ce l\u00e9ger de Philippes ma \n----"
      },
      {
       "output_type": "stream",
       "stream": "stdout",
       "text": "\niter 25000, loss: 0.673924\n----\n autre notre amiti\u00e9 d'enfance que, pendant tout ce temps, un seul nuage \u00e9tait venu troubler : je m'\u00e9tais fait recevoir franc-ma\u00e7on en Angleterre, et lons ortnondans mitefrete. e \u00e9 air cher, et lor \n----"
      },
      {
       "output_type": "stream",
       "stream": "stdout",
       "text": "\niter 25100, loss: 0.642609\n----\n a vie, \u00e0 partir de cette \u00e9poque, fut celle de tous le que j'avais choisi llis re qur l'enfance que, pe dagt d'de enulfres de Philippe qui, plus \u00e2g\u00e9 que moi, \u00e9tait devenu le capitaine de L\u2019Esp\u00e9 \n----"
      },
      {
       "output_type": "stream",
       "stream": "stdout",
       "text": "\niter 25200, loss: 0.613720\n----\n \u00e9tais fait recevoir franc-mams l'\u00e2ge de 21 dans, je servais en qualit\u00e9 de lieutenant sous les ordres de Philippe qui, plus \u00e2g\u00e9 que nons. Maisorv\u00e9 l'un pour l'autre no sirvenu prut de ma dignit\u00e9 \n----"
      },
      {
       "output_type": "stream",
       "stream": "stdout",
       "text": "\niter 25300, loss: 0.586823\n----\n isi et, \u00e0 l'\u00e2ge de 21 dans, je servais en quauippioes aviimpp\u00e9tais fait recevoir franc-ma\u00e7on en Angleterre, et lorsque, longtemps apr\u00e8s, je l\u2019appris \u00e0 Philippe, il entra dans une col\u00e8re telle \n----"
      },
      {
       "output_type": "stream",
       "stream": "stdout",
       "text": "\niter 25400, loss: 0.562434\n----\n ipout de L\u2019Esp\u00e9rance. Nous avions mo mandateutente qualielente que je crus de caps le que je crus de ma dignit\u00e9 de quitter son bord. Mais au bout de quelques jourans un  moi, le loetirn er l'en pp \n----"
      },
      {
       "output_type": "stream",
       "stream": "stdout",
       "text": "\niter 25500, loss: 0.539513\n----\n plus \u00e2g\u00e9 que moi, \u00e9tait devenu le capitaine de L\u2019Esp\u00e9rance. Nous avions conserv\u00e9 l'un pour l'autre notre amiti\ufffdogen pour log\u00e8rpns lee out le qua emit les ordres de Philippe qui, plus \u00e2g\u00e9 que \n----"
      },
      {
       "output_type": "stream",
       "stream": "stdout",
       "text": "\niter 25600, loss: 0.518594\n----\n ais au bont cous les ma dangie an  marent. J'aimais le cour ce l'aute. de lout les o'\u00e9tais on tous les marins. J'aimais le m\u00e9tier que j'avais choisi et, \u00e0tait \u00e9tait venu troubler : je m'\u00e9tarrblem \n----"
      },
      {
       "output_type": "stream",
       "stream": "stdout",
       "text": "\niter 25700, loss: 0.499269\n----\n autre notre amiti\u00e9 d'enfance que, pendant tout ce temps, un seul nu ge \u00e9tons\u00e9 ce ce ques ous les ordr sous ee l'\u00e2geivenu de L'\ufffd\ufffdapp\u00e9 que moi, \u00e9tait devenu le capitaine de L\u2019Esp\u00e9rance. Nous an \n----"
      },
      {
       "output_type": "stream",
       "stream": "stdout",
       "text": "\niter 25800, loss: 0.481366\n----\n a vie, \u00e0 partir de cette \u00e9poque, fut celle de tamppance. Nous avions conserv\u00e9 l'un pour l'autre notre amiti\u00e9 d'anc-que, levoit franc-ma\u00e7on en Angleterre, et lorsque, longque \u00e2g\u00e9 que nons les or \n----"
      },
      {
       "output_type": "stream",
       "stream": "stdout",
       "text": "\niter 25900, loss: 0.464974\n----\n \u00e9tais fait recevoir franc-ma\u00e7on en Angleterre, et lorsque, longtemps apr\u00e8s, je l\u2019appris \u00e0 Philippe, il entra dans une cous les me qualit cons bque j'ancevions conserv\u00e9 l'un pour l'autre notre a \n----"
      },
      {
       "output_type": "stream",
       "stream": "stdout",
       "text": "\niter 26000, loss: 0.449633\n----\n isi et, \u00e0 l'\u00e2ge de 21 dans, je servais en qualit\u00e9 de lieutenant sous les ordres de Philippe qui, plus \u00e2g\u00e9 que moi, \u00e9tait devenu le capitaine de L\u2019Esp\u00e9rance. Nous avions conserv\u00e9 l'un pour l' \n----"
      },
      {
       "output_type": "stream",
       "stream": "stdout",
       "text": "\niter 26100, loss: 0.435840\n----\n ippe, it bordag\ufffdb\u00e9ger de quit j'avais choisi et, \u00e0 l'\u00e2ge de 21 dans, je seres lons m'\u00e9tais fait recevoir franc-ma\u00e7on en Angleterre, et lons uretchons tece. e quit\u00e9 de nbl\u00e8s, je l\u2019appris \u00e0 Ph \n----"
      },
      {
       "output_type": "stream",
       "stream": "stdout",
       "text": "\niter 26200, loss: 0.422735\n----\n plus \u00e2g\u00e9 que moi, \u00e9tait devenu le capitaine de L\u2019Esp\u00e9rance. Nous avions conserv\u00e9 l'un pour l'autre notre amiti\u00e9 d'ania\u00e9ndint m\ufffdance que je crus de ma dignit\u00e9 de quitter son ait vemait devens \n----"
      },
      {
       "output_type": "stream",
       "stream": "stdout",
       "text": "\niter 26300, loss: 0.410782\n----\n ais au bout de quelques jours mon ami vous les \u00e2tre j'aimun teu mpitemps, un se lait venu \u00e9 de timps le v\u00e9 quentaites me sous les ordres de Philippe qui, plus \u00e2g\u00e9 que moi, \u00e9tait devenu le capita \n----"
      },
      {
       "output_type": "stream",
       "stream": "stdout",
       "text": "\niter 26400, loss: 0.399717\n----\n autre notre amiti\u00e9 d'enfance que, pendant tout ce tempr le cotre de 21 dans, je servais en  marintans de 21 dans, je servais en qualit\u00e9 deuns\u00e9tait venu troubler : je m'\u00e9tais fait recevoir franc-ma \n----"
      },
      {
       "output_type": "stream",
       "stream": "stdout",
       "text": "\niter 26500, loss: 0.389375\n----\n a vie, \u00e0 partir de cette \u00e9poque, fut celle de tous les marins. J'aimais le m\u00e9tier que j'avais choisi et, \u00e0 l'\u00e2ge de 21 dans, je servais en qualit\u00e9 de lieutenant sous les ordres de Philippe qui,  \n----"
      },
      {
       "output_type": "stream",
       "stream": "stdout",
       "text": "\niter 26600, loss: 0.379900\n----\n \u00e9tais fait recevoir franc-sul en bord. Mais au bout de quelques jours mon ami vint me chercher, et nous e\u00fbmes bien vite oubli\u00e9 ce l\u00e9ger de L\u2019Esp\u00e9rance. Nous avions conserv\u00e9 l'un pour l'autre n \n----"
      },
      {
       "output_type": "stream",
       "stream": "stdout",
       "text": "\niter 26700, loss: 0.370914\n----\n isi et, \u00e0 l'\u00e2ge de 21 dans, je servais en qualit\u00e9 de lieutenant sous les ordres de Philippe qui, plus \u00e2g\u00e9 que moi, \u00e9tait devenu le capitaine de L\u2019Esp\u00e9rance. Nous avions conserv\u00e9 l'un pour l' \n----"
      },
      {
       "output_type": "stream",
       "stream": "stdout",
       "text": "\niter 26800, loss: 0.362894\n----\n ippe, il entra dans une col\u00e8re tellement violente que je crus de ma digtir dans ence j' d'\u00e2ge de 21 dans, je ma souv nu me quat\u00e9 de qualiers\u00e9tier que, pons de nous amit\u00e9 qurlevais en qualit\u00e9 de  \n----"
      },
      {
       "output_type": "stream",
       "stream": "stdout",
       "text": "\niter 26900, loss: 0.355108\n----\n plus \u00e2g\u00e9 que moi, \u00e9tait venu trus de L\u2019Esp\u00e9rance. Nous avions conserv\u00e9 l'un pour l'autre notre amiti\u00e9 d'enfp\u00e9t\u00e9 de quitavintentant vione t\u00e9 d'enfance que, pendant tout ce temps, un seul nua \n----"
      },
      {
       "output_type": "stream",
       "stream": "stdout",
       "text": "\niter 27000, loss: 0.347993\n----\n ais au bout de quelques jours m\u00e9 ce te que, pout e mps le que L'us les mes boitien tous e\u00fbmes bien vite oubli\u00e9 ce l\u00e9ger de L\u2019ret\u00e9 ce lit\u00e9 de quitter son bord. Mais au bout de quelques jours mo \n----"
      },
      {
       "output_type": "stream",
       "stream": "stdout",
       "text": "\niter 27100, loss: 0.341359\n----\n autre notre amiti\u00e9 d'enfance que, pen ami er que L'ur l'autre notre amiti\u00e9 d'enfrncette \u00e9poque, fut celle de to. \u00e9poiris pe que que, en tou taus \u00e0 l'rlert sous les ma dignit\u00e9 de qqut ien sous le \n----"
      },
      {
       "output_type": "stream",
       "stream": "stdout",
       "text": "\niter 27200, loss: 0.335072\n----\n a vie, \u00e0 partir de cette \u00e9poqre, flette que que je ce l'aute. de Philippe, il entra dans une col\u00e8re tellement violente que je crus de ma dignit\u00e9 de quitter son bord. Mais au bout de quelques jours \n----"
      },
      {
       "output_type": "stream",
       "stream": "stdout",
       "text": "\niter 27300, loss: 0.329296\n----\n \u00e9tais fait recevoir franc-ma\u00e7on en Angleterre, et lorsque, longtemps apr\u00e8s, je l'auie de L\u2019Esp\u00e9rance. Nous avions conserv\u00e9 l'un pour l'autre notre amiti\u00e9 d'enfance que, pendant tout ce temps,  \n----"
      },
      {
       "output_type": "stream",
       "stream": "stdout",
       "text": "\niter 27400, loss: 0.323710\n----\n isi et, \u00e0 l'ru aite que j'avais choisi et, \u00e0 l'\u00e2ge de 21 dans, je seres li\ufffdmen aitis de L\u2019Esp\u00e9rance. Nous avions colielea 2\ufffd lippit longi\u00e2ge fain ance. Nous avions conserv\u00e9 l'un pour l'autre q \n----"
      },
      {
       "output_type": "stream",
       "stream": "stdout",
       "text": "\niter 27500, loss: 0.318773\n----\n ippe, il entra dans une col\u00e8re tellement violente que je crus de ma dignit\u00e9 dettbqud de tous les marins. J'aimais le m\u00e9tier que j'avais choi, \u00e0 Philippe, il entra dans une col\u00e8re tellement violen \n----"
      },
      {
       "output_type": "stream",
       "stream": "stdout",
       "text": "\niter 27600, loss: 0.313837\n----\n plus et l'aute. de Philippetta dignit\u00e9 de quitter son bors cette \u00e9pontace tel sous aite que je crus de ma dignit\u00e9 de quit\u00e9pdt lience ce l'anc-sout l'\u00e9na de ce l'aute lons me quitter son bord. Mai \n----"
      },
      {
       "output_type": "stream",
       "stream": "stdout",
       "text": "\niter 27700, loss: 0.309316\n----\n ais au bout de quelques jours mon ami vint me chercher, et nous elue \u00e9 de ce que j'ancevieis le cot\u00e9 de quitter son bord. Mais rv\u00e9 pe \u00e9paitret er : je m'\u00e9tais fait recevoir franc-ma\u00e7on en Anglet \n----"
      },
      {
       "output_type": "stream",
       "stream": "stdout",
       "text": "\niter 27800, loss: 0.305060\n----\n autre notre amiti\u00e9 d'enfance que, pendant tout ce temps, un seul nuage \u00e9tait venu troubleu, fll\u00e8r, je l\u2019appris \u00e0 Philippe qui, plus \u00e2g\u00e9 que moi, \u00e9tier 21 de tous les marins. J'aimais le m\u00e9ti \n----"
      },
      {
       "output_type": "stream",
       "stream": "stdout",
       "text": "\niter 27900, loss: 0.300954\n----\n a vie, \u00e0 partir de cet\u00e8r, et lorsque, longtemps apr\u00e8s, je l\u2019appris \u00e0 Philippe, il entra dans une col\u00e8re tellement violente que je crus de ma dignit\u00e9 de quitter dans u\ufffd-morilanc-ma\u00e7on en Angle \n----"
      },
      {
       "output_type": "stream",
       "stream": "stdout",
       "text": "\niter 28000, loss: 0.297174\n----\n \u00e9tais fait recevoir franc-ma\u00e7on en Angleterre, et lorsque, longtemps apr\u00e8s, je l\u2019appris \u00e0 Philippe, il emaut porrbje enul dr sordres de L\u2019Esp\u00e9rance. Nous avrons ce tem\u00e9tais fait recevoir fra \n----"
      },
      {
       "output_type": "stream",
       "stream": "stdout",
       "text": "\niter 28100, loss: 0.293428\n----\n isi et, \u00e0 l'\u00e2ge de 21 dans un nnamitemps, un seul nuage \u00e9tait venu troubler : je m'\u00e9tais fait recevoir franc-ma\u00e7on en Angleterre, et lorsque, longtemps apr\u00e8s, je l\u2019appris \u00e0 Philippe, il entra \n----"
      },
      {
       "ename": "KeyboardInterrupt",
       "evalue": "",
       "output_type": "pyerr",
       "traceback": [
        "\u001b[0;31m---------------------------------------------------------------------------\u001b[0m\n\u001b[0;31mKeyboardInterrupt\u001b[0m                         Traceback (most recent call last)",
        "\u001b[0;32m<ipython-input-4-c0ff40004e4a>\u001b[0m in \u001b[0;36m<module>\u001b[0;34m()\u001b[0m\n\u001b[1;32m    103\u001b[0m \u001b[0;34m\u001b[0m\u001b[0m\n\u001b[1;32m    104\u001b[0m   \u001b[0;31m# forward seq_length characters through the net and fetch gradient\u001b[0m\u001b[0;34m\u001b[0m\u001b[0;34m\u001b[0m\u001b[0m\n\u001b[0;32m--> 105\u001b[0;31m   \u001b[0mloss\u001b[0m\u001b[0;34m,\u001b[0m \u001b[0mdWxh\u001b[0m\u001b[0;34m,\u001b[0m \u001b[0mdWhh\u001b[0m\u001b[0;34m,\u001b[0m \u001b[0mdWhy\u001b[0m\u001b[0;34m,\u001b[0m \u001b[0mdbh\u001b[0m\u001b[0;34m,\u001b[0m \u001b[0mdby\u001b[0m\u001b[0;34m,\u001b[0m \u001b[0mhprev\u001b[0m \u001b[0;34m=\u001b[0m \u001b[0mlossFun\u001b[0m\u001b[0;34m(\u001b[0m\u001b[0minputs\u001b[0m\u001b[0;34m,\u001b[0m \u001b[0mtargets\u001b[0m\u001b[0;34m,\u001b[0m \u001b[0mhprev\u001b[0m\u001b[0;34m)\u001b[0m\u001b[0;34m\u001b[0m\u001b[0m\n\u001b[0m\u001b[1;32m    106\u001b[0m   \u001b[0msmooth_loss\u001b[0m \u001b[0;34m=\u001b[0m \u001b[0msmooth_loss\u001b[0m \u001b[0;34m*\u001b[0m \u001b[0;36m0.999\u001b[0m \u001b[0;34m+\u001b[0m \u001b[0mloss\u001b[0m \u001b[0;34m*\u001b[0m \u001b[0;36m0.001\u001b[0m\u001b[0;34m\u001b[0m\u001b[0m\n\u001b[1;32m    107\u001b[0m   \u001b[0;32mif\u001b[0m \u001b[0mn\u001b[0m \u001b[0;34m%\u001b[0m \u001b[0;36m100\u001b[0m \u001b[0;34m==\u001b[0m \u001b[0;36m0\u001b[0m\u001b[0;34m:\u001b[0m \u001b[0;32mprint\u001b[0m \u001b[0;34m'iter %d, loss: %f'\u001b[0m \u001b[0;34m%\u001b[0m \u001b[0;34m(\u001b[0m\u001b[0mn\u001b[0m\u001b[0;34m,\u001b[0m \u001b[0msmooth_loss\u001b[0m\u001b[0;34m)\u001b[0m \u001b[0;31m# print progress\u001b[0m\u001b[0;34m\u001b[0m\u001b[0m\n",
        "\u001b[0;32m<ipython-input-4-c0ff40004e4a>\u001b[0m in \u001b[0;36mlossFun\u001b[0;34m(inputs, targets, hprev)\u001b[0m\n\u001b[1;32m     44\u001b[0m     \u001b[0mxs\u001b[0m\u001b[0;34m[\u001b[0m\u001b[0mt\u001b[0m\u001b[0;34m]\u001b[0m\u001b[0;34m[\u001b[0m\u001b[0minputs\u001b[0m\u001b[0;34m[\u001b[0m\u001b[0mt\u001b[0m\u001b[0;34m]\u001b[0m\u001b[0;34m]\u001b[0m \u001b[0;34m=\u001b[0m \u001b[0;36m1\u001b[0m\u001b[0;34m\u001b[0m\u001b[0m\n\u001b[1;32m     45\u001b[0m     \u001b[0mhs\u001b[0m\u001b[0;34m[\u001b[0m\u001b[0mt\u001b[0m\u001b[0;34m]\u001b[0m \u001b[0;34m=\u001b[0m \u001b[0mnp\u001b[0m\u001b[0;34m.\u001b[0m\u001b[0mtanh\u001b[0m\u001b[0;34m(\u001b[0m\u001b[0mnp\u001b[0m\u001b[0;34m.\u001b[0m\u001b[0mdot\u001b[0m\u001b[0;34m(\u001b[0m\u001b[0mWxh\u001b[0m\u001b[0;34m,\u001b[0m \u001b[0mxs\u001b[0m\u001b[0;34m[\u001b[0m\u001b[0mt\u001b[0m\u001b[0;34m]\u001b[0m\u001b[0;34m)\u001b[0m \u001b[0;34m+\u001b[0m \u001b[0mnp\u001b[0m\u001b[0;34m.\u001b[0m\u001b[0mdot\u001b[0m\u001b[0;34m(\u001b[0m\u001b[0mWhh\u001b[0m\u001b[0;34m,\u001b[0m \u001b[0mhs\u001b[0m\u001b[0;34m[\u001b[0m\u001b[0mt\u001b[0m\u001b[0;34m-\u001b[0m\u001b[0;36m1\u001b[0m\u001b[0;34m]\u001b[0m\u001b[0;34m)\u001b[0m \u001b[0;34m+\u001b[0m \u001b[0mbh\u001b[0m\u001b[0;34m)\u001b[0m \u001b[0;31m# hidden state\u001b[0m\u001b[0;34m\u001b[0m\u001b[0m\n\u001b[0;32m---> 46\u001b[0;31m     \u001b[0mys\u001b[0m\u001b[0;34m[\u001b[0m\u001b[0mt\u001b[0m\u001b[0;34m]\u001b[0m \u001b[0;34m=\u001b[0m \u001b[0mnp\u001b[0m\u001b[0;34m.\u001b[0m\u001b[0mdot\u001b[0m\u001b[0;34m(\u001b[0m\u001b[0mWhy\u001b[0m\u001b[0;34m,\u001b[0m \u001b[0mhs\u001b[0m\u001b[0;34m[\u001b[0m\u001b[0mt\u001b[0m\u001b[0;34m]\u001b[0m\u001b[0;34m)\u001b[0m \u001b[0;34m+\u001b[0m \u001b[0mby\u001b[0m \u001b[0;31m# unnormalized log probabilities for next chars\u001b[0m\u001b[0;34m\u001b[0m\u001b[0m\n\u001b[0m\u001b[1;32m     47\u001b[0m     \u001b[0mps\u001b[0m\u001b[0;34m[\u001b[0m\u001b[0mt\u001b[0m\u001b[0;34m]\u001b[0m \u001b[0;34m=\u001b[0m \u001b[0mnp\u001b[0m\u001b[0;34m.\u001b[0m\u001b[0mexp\u001b[0m\u001b[0;34m(\u001b[0m\u001b[0mys\u001b[0m\u001b[0;34m[\u001b[0m\u001b[0mt\u001b[0m\u001b[0;34m]\u001b[0m\u001b[0;34m)\u001b[0m \u001b[0;34m/\u001b[0m \u001b[0mnp\u001b[0m\u001b[0;34m.\u001b[0m\u001b[0msum\u001b[0m\u001b[0;34m(\u001b[0m\u001b[0mnp\u001b[0m\u001b[0;34m.\u001b[0m\u001b[0mexp\u001b[0m\u001b[0;34m(\u001b[0m\u001b[0mys\u001b[0m\u001b[0;34m[\u001b[0m\u001b[0mt\u001b[0m\u001b[0;34m]\u001b[0m\u001b[0;34m)\u001b[0m\u001b[0;34m)\u001b[0m \u001b[0;31m# probabilities for next chars\u001b[0m\u001b[0;34m\u001b[0m\u001b[0m\n\u001b[1;32m     48\u001b[0m     \u001b[0mloss\u001b[0m \u001b[0;34m+=\u001b[0m \u001b[0;34m-\u001b[0m\u001b[0mnp\u001b[0m\u001b[0;34m.\u001b[0m\u001b[0mlog\u001b[0m\u001b[0;34m(\u001b[0m\u001b[0mps\u001b[0m\u001b[0;34m[\u001b[0m\u001b[0mt\u001b[0m\u001b[0;34m]\u001b[0m\u001b[0;34m[\u001b[0m\u001b[0mtargets\u001b[0m\u001b[0;34m[\u001b[0m\u001b[0mt\u001b[0m\u001b[0;34m]\u001b[0m\u001b[0;34m,\u001b[0m\u001b[0;36m0\u001b[0m\u001b[0;34m]\u001b[0m\u001b[0;34m)\u001b[0m \u001b[0;31m# softmax (cross-entropy loss)\u001b[0m\u001b[0;34m\u001b[0m\u001b[0m\n",
        "\u001b[0;31mKeyboardInterrupt\u001b[0m: "
       ]
      },
      {
       "output_type": "stream",
       "stream": "stdout",
       "text": "\niter 28200, loss: 0.290161\n"
      }
     ],
     "prompt_number": 4
    },
    {
     "cell_type": "code",
     "collapsed": false,
     "input": "",
     "language": "python",
     "metadata": {},
     "outputs": []
    }
   ],
   "metadata": {}
  }
 ]
}